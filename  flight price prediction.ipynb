{
 "cells": [
  {
   "cell_type": "markdown",
   "id": "f1473553",
   "metadata": {},
   "source": [
    "# FLIGHT PRICE PREDICTION\n",
    "Anyone who has booked a flight ticket knows how unexpectedly the prices vary. The cheapest \n",
    "available ticket on a given flight gets more and less expensive over time. This usually happens as \n",
    "an attempt to maximize revenue based on -\n",
    "1. Time of purchase patterns (making sure last-minute purchases are expensive)\n",
    "2. Keeping the flight as full as they want it (raising prices on a flight which is filling up in order \n",
    "to reduce sales and hold back inventory for those expensive last-minute expensive \n",
    "purchases)\n",
    "So, you have to work on a project where you collect data of flight fares with other features and \n",
    "work to make a model to predict fares of flights.\n",
    "\n",
    "\n",
    "In the given data set, I have fixed the departure location i.e Delhi. Also fixed the date 9th April 2022.\n",
    "The different features involve, number of stop, destination, time of departure and time of arrival and duration of the flight.\n",
    "\n",
    "From the given data set we will predict the price of a flight based on given feature.\n",
    "\n"
   ]
  },
  {
   "cell_type": "markdown",
   "id": "f919e364",
   "metadata": {},
   "source": [
    "# Data Analysis\n"
   ]
  },
  {
   "cell_type": "code",
   "execution_count": 155,
   "id": "ffd27862",
   "metadata": {},
   "outputs": [],
   "source": [
    "import pandas as pd\n",
    "import numpy as np\n",
    "import seaborn as sns\n",
    "import numpy\n",
    "import matplotlib.pyplot as plt\n",
    "%matplotlib inline"
   ]
  },
  {
   "cell_type": "code",
   "execution_count": 156,
   "id": "2cb12661",
   "metadata": {},
   "outputs": [
    {
     "data": {
      "text/html": [
       "<div>\n",
       "<style scoped>\n",
       "    .dataframe tbody tr th:only-of-type {\n",
       "        vertical-align: middle;\n",
       "    }\n",
       "\n",
       "    .dataframe tbody tr th {\n",
       "        vertical-align: top;\n",
       "    }\n",
       "\n",
       "    .dataframe thead th {\n",
       "        text-align: right;\n",
       "    }\n",
       "</style>\n",
       "<table border=\"1\" class=\"dataframe\">\n",
       "  <thead>\n",
       "    <tr style=\"text-align: right;\">\n",
       "      <th></th>\n",
       "      <th>Unnamed: 0</th>\n",
       "      <th>Unnamed: 0.1</th>\n",
       "      <th>airline</th>\n",
       "      <th>departure_city</th>\n",
       "      <th>departure_time</th>\n",
       "      <th>reaching_time</th>\n",
       "      <th>destination_city</th>\n",
       "      <th>journey_time</th>\n",
       "      <th>stop</th>\n",
       "      <th>ticket fare</th>\n",
       "    </tr>\n",
       "  </thead>\n",
       "  <tbody>\n",
       "    <tr>\n",
       "      <th>0</th>\n",
       "      <td>0</td>\n",
       "      <td>0</td>\n",
       "      <td>Air India</td>\n",
       "      <td>DEL Indira Gandhi Intl</td>\n",
       "      <td>09:45</td>\n",
       "      <td>11:50</td>\n",
       "      <td>HYD Rajiv Gandhi Intl</td>\n",
       "      <td>2h 05m</td>\n",
       "      <td>direct</td>\n",
       "      <td>₹ 4,510</td>\n",
       "    </tr>\n",
       "    <tr>\n",
       "      <th>1</th>\n",
       "      <td>1</td>\n",
       "      <td>1</td>\n",
       "      <td>Air India</td>\n",
       "      <td>DEL Indira Gandhi Intl</td>\n",
       "      <td>09:45</td>\n",
       "      <td>11:50</td>\n",
       "      <td>HYD Rajiv Gandhi Intl</td>\n",
       "      <td>2h 05m</td>\n",
       "      <td>direct</td>\n",
       "      <td>₹ 4,625</td>\n",
       "    </tr>\n",
       "    <tr>\n",
       "      <th>2</th>\n",
       "      <td>2</td>\n",
       "      <td>2</td>\n",
       "      <td>SpiceJet</td>\n",
       "      <td>DEL Indira Gandhi Intl</td>\n",
       "      <td>21:55</td>\n",
       "      <td>00:15</td>\n",
       "      <td>HYD Rajiv Gandhi Intl</td>\n",
       "      <td>2h 20m</td>\n",
       "      <td>direct</td>\n",
       "      <td>₹ 4,625</td>\n",
       "    </tr>\n",
       "    <tr>\n",
       "      <th>3</th>\n",
       "      <td>3</td>\n",
       "      <td>3</td>\n",
       "      <td>Air India</td>\n",
       "      <td>DEL Indira Gandhi Intl</td>\n",
       "      <td>07:10</td>\n",
       "      <td>09:25</td>\n",
       "      <td>HYD Rajiv Gandhi Intl</td>\n",
       "      <td>2h 15m</td>\n",
       "      <td>direct</td>\n",
       "      <td>₹ 4,510</td>\n",
       "    </tr>\n",
       "    <tr>\n",
       "      <th>4</th>\n",
       "      <td>4</td>\n",
       "      <td>4</td>\n",
       "      <td>Vistara</td>\n",
       "      <td>DEL Indira Gandhi Intl</td>\n",
       "      <td>17:40</td>\n",
       "      <td>19:50</td>\n",
       "      <td>HYD Rajiv Gandhi Intl</td>\n",
       "      <td>2h 10m</td>\n",
       "      <td>direct</td>\n",
       "      <td>₹ 4,376</td>\n",
       "    </tr>\n",
       "    <tr>\n",
       "      <th>...</th>\n",
       "      <td>...</td>\n",
       "      <td>...</td>\n",
       "      <td>...</td>\n",
       "      <td>...</td>\n",
       "      <td>...</td>\n",
       "      <td>...</td>\n",
       "      <td>...</td>\n",
       "      <td>...</td>\n",
       "      <td>...</td>\n",
       "      <td>...</td>\n",
       "    </tr>\n",
       "    <tr>\n",
       "      <th>1497</th>\n",
       "      <td>964</td>\n",
       "      <td>964</td>\n",
       "      <td>Vistara</td>\n",
       "      <td>DEL Indira Gandhi Intl</td>\n",
       "      <td>14:45</td>\n",
       "      <td>18:55</td>\n",
       "      <td>AMD Ahmedabad</td>\n",
       "      <td>1h 35m</td>\n",
       "      <td>direct</td>\n",
       "      <td>₹ 5,700</td>\n",
       "    </tr>\n",
       "    <tr>\n",
       "      <th>1498</th>\n",
       "      <td>965</td>\n",
       "      <td>965</td>\n",
       "      <td>IndiGo</td>\n",
       "      <td>DEL Indira Gandhi Intl</td>\n",
       "      <td>06:25</td>\n",
       "      <td>08:05</td>\n",
       "      <td>AMD Ahmedabad</td>\n",
       "      <td>1h 35m</td>\n",
       "      <td>direct</td>\n",
       "      <td>₹ 5,367</td>\n",
       "    </tr>\n",
       "    <tr>\n",
       "      <th>1499</th>\n",
       "      <td>966</td>\n",
       "      <td>966</td>\n",
       "      <td>IndiGo</td>\n",
       "      <td>DEL Indira Gandhi Intl</td>\n",
       "      <td>19:00</td>\n",
       "      <td>06:25</td>\n",
       "      <td>AMD Ahmedabad</td>\n",
       "      <td>1h 40m</td>\n",
       "      <td>direct</td>\n",
       "      <td>₹ 18,173</td>\n",
       "    </tr>\n",
       "    <tr>\n",
       "      <th>1500</th>\n",
       "      <td>967</td>\n",
       "      <td>967</td>\n",
       "      <td>Vistara, SpiceJet</td>\n",
       "      <td>DEL Indira Gandhi Intl</td>\n",
       "      <td>18:15</td>\n",
       "      <td>00:10</td>\n",
       "      <td>AMD Ahmedabad</td>\n",
       "      <td>1h 55m</td>\n",
       "      <td>direct</td>\n",
       "      <td>₹ 18,173</td>\n",
       "    </tr>\n",
       "    <tr>\n",
       "      <th>1501</th>\n",
       "      <td>968</td>\n",
       "      <td>968</td>\n",
       "      <td>IndiGo</td>\n",
       "      <td>DEL Indira Gandhi Intl</td>\n",
       "      <td>06:10</td>\n",
       "      <td>21:15</td>\n",
       "      <td>AMD Ahmedabad</td>\n",
       "      <td>4h 15m</td>\n",
       "      <td>direct</td>\n",
       "      <td>₹ 18,156</td>\n",
       "    </tr>\n",
       "  </tbody>\n",
       "</table>\n",
       "<p>1502 rows × 10 columns</p>\n",
       "</div>"
      ],
      "text/plain": [
       "      Unnamed: 0  Unnamed: 0.1            airline          departure_city  \\\n",
       "0              0             0          Air India  DEL Indira Gandhi Intl   \n",
       "1              1             1          Air India  DEL Indira Gandhi Intl   \n",
       "2              2             2           SpiceJet  DEL Indira Gandhi Intl   \n",
       "3              3             3          Air India  DEL Indira Gandhi Intl   \n",
       "4              4             4            Vistara  DEL Indira Gandhi Intl   \n",
       "...          ...           ...                ...                     ...   \n",
       "1497         964           964            Vistara  DEL Indira Gandhi Intl   \n",
       "1498         965           965             IndiGo  DEL Indira Gandhi Intl   \n",
       "1499         966           966             IndiGo  DEL Indira Gandhi Intl   \n",
       "1500         967           967  Vistara, SpiceJet  DEL Indira Gandhi Intl   \n",
       "1501         968           968             IndiGo  DEL Indira Gandhi Intl   \n",
       "\n",
       "     departure_time reaching_time       destination_city journey_time    stop  \\\n",
       "0             09:45         11:50  HYD Rajiv Gandhi Intl       2h 05m  direct   \n",
       "1             09:45         11:50  HYD Rajiv Gandhi Intl       2h 05m  direct   \n",
       "2             21:55         00:15  HYD Rajiv Gandhi Intl       2h 20m  direct   \n",
       "3             07:10         09:25  HYD Rajiv Gandhi Intl       2h 15m  direct   \n",
       "4             17:40         19:50  HYD Rajiv Gandhi Intl       2h 10m  direct   \n",
       "...             ...           ...                    ...          ...     ...   \n",
       "1497          14:45         18:55          AMD Ahmedabad       1h 35m  direct   \n",
       "1498          06:25         08:05          AMD Ahmedabad       1h 35m  direct   \n",
       "1499          19:00         06:25          AMD Ahmedabad       1h 40m  direct   \n",
       "1500          18:15         00:10          AMD Ahmedabad       1h 55m  direct   \n",
       "1501          06:10         21:15          AMD Ahmedabad       4h 15m  direct   \n",
       "\n",
       "     ticket fare  \n",
       "0        ₹ 4,510  \n",
       "1        ₹ 4,625  \n",
       "2        ₹ 4,625  \n",
       "3        ₹ 4,510  \n",
       "4        ₹ 4,376  \n",
       "...          ...  \n",
       "1497     ₹ 5,700  \n",
       "1498     ₹ 5,367  \n",
       "1499    ₹ 18,173  \n",
       "1500    ₹ 18,173  \n",
       "1501    ₹ 18,156  \n",
       "\n",
       "[1502 rows x 10 columns]"
      ]
     },
     "execution_count": 156,
     "metadata": {},
     "output_type": "execute_result"
    }
   ],
   "source": [
    "#loading data\n",
    "data_flight = pd.read_csv (\"C:/Users/Admin/Desktop/flight_result.csv\")\n",
    "data_flight"
   ]
  },
  {
   "cell_type": "code",
   "execution_count": 157,
   "id": "df3ee808",
   "metadata": {},
   "outputs": [
    {
     "data": {
      "text/plain": [
       "Index(['Unnamed: 0', 'Unnamed: 0.1', 'airline', 'departure_city',\n",
       "       'departure_time', 'reaching_time', 'destination_city', 'journey_time',\n",
       "       'stop', 'ticket fare'],\n",
       "      dtype='object')"
      ]
     },
     "execution_count": 157,
     "metadata": {},
     "output_type": "execute_result"
    }
   ],
   "source": [
    "data_flight.columns"
   ]
  },
  {
   "cell_type": "code",
   "execution_count": 158,
   "id": "d0c3eacc",
   "metadata": {},
   "outputs": [
    {
     "name": "stdout",
     "output_type": "stream",
     "text": [
      "<class 'pandas.core.frame.DataFrame'>\n",
      "RangeIndex: 1502 entries, 0 to 1501\n",
      "Data columns (total 10 columns):\n",
      " #   Column            Non-Null Count  Dtype \n",
      "---  ------            --------------  ----- \n",
      " 0   Unnamed: 0        1502 non-null   int64 \n",
      " 1   Unnamed: 0.1      1502 non-null   int64 \n",
      " 2   airline           1502 non-null   object\n",
      " 3   departure_city    1502 non-null   object\n",
      " 4   departure_time    1502 non-null   object\n",
      " 5   reaching_time     1502 non-null   object\n",
      " 6   destination_city  1502 non-null   object\n",
      " 7   journey_time      1502 non-null   object\n",
      " 8   stop              1502 non-null   object\n",
      " 9   ticket fare       1502 non-null   object\n",
      "dtypes: int64(2), object(8)\n",
      "memory usage: 117.5+ KB\n"
     ]
    }
   ],
   "source": [
    "data_flight.info()"
   ]
  },
  {
   "cell_type": "code",
   "execution_count": 159,
   "id": "25c02824",
   "metadata": {},
   "outputs": [
    {
     "data": {
      "text/plain": [
       "Unnamed: 0          0\n",
       "Unnamed: 0.1        0\n",
       "airline             0\n",
       "departure_city      0\n",
       "departure_time      0\n",
       "reaching_time       0\n",
       "destination_city    0\n",
       "journey_time        0\n",
       "stop                0\n",
       "ticket fare         0\n",
       "dtype: int64"
      ]
     },
     "execution_count": 159,
     "metadata": {},
     "output_type": "execute_result"
    }
   ],
   "source": [
    "data_flight.isnull().sum()"
   ]
  },
  {
   "cell_type": "code",
   "execution_count": 160,
   "id": "805be97b",
   "metadata": {},
   "outputs": [
    {
     "data": {
      "text/html": [
       "<div>\n",
       "<style scoped>\n",
       "    .dataframe tbody tr th:only-of-type {\n",
       "        vertical-align: middle;\n",
       "    }\n",
       "\n",
       "    .dataframe tbody tr th {\n",
       "        vertical-align: top;\n",
       "    }\n",
       "\n",
       "    .dataframe thead th {\n",
       "        text-align: right;\n",
       "    }\n",
       "</style>\n",
       "<table border=\"1\" class=\"dataframe\">\n",
       "  <thead>\n",
       "    <tr style=\"text-align: right;\">\n",
       "      <th></th>\n",
       "      <th>Unnamed: 0</th>\n",
       "      <th>Unnamed: 0.1</th>\n",
       "      <th>airline</th>\n",
       "      <th>departure_city</th>\n",
       "      <th>departure_time</th>\n",
       "      <th>reaching_time</th>\n",
       "      <th>destination_city</th>\n",
       "      <th>journey_time</th>\n",
       "      <th>stop</th>\n",
       "      <th>ticket fare</th>\n",
       "    </tr>\n",
       "  </thead>\n",
       "  <tbody>\n",
       "  </tbody>\n",
       "</table>\n",
       "</div>"
      ],
      "text/plain": [
       "Empty DataFrame\n",
       "Columns: [Unnamed: 0, Unnamed: 0.1, airline, departure_city, departure_time, reaching_time, destination_city, journey_time, stop, ticket fare]\n",
       "Index: []"
      ]
     },
     "execution_count": 160,
     "metadata": {},
     "output_type": "execute_result"
    }
   ],
   "source": [
    "data_flight[data_flight.duplicated()]"
   ]
  },
  {
   "cell_type": "code",
   "execution_count": 161,
   "id": "8b6f0253",
   "metadata": {},
   "outputs": [],
   "source": [
    "data_flight.drop_duplicates(keep='first',inplace=True)"
   ]
  },
  {
   "cell_type": "code",
   "execution_count": 162,
   "id": "c27be422",
   "metadata": {},
   "outputs": [
    {
     "data": {
      "text/plain": [
       "IndiGo                   637\n",
       "Vistara                  277\n",
       "Air India                188\n",
       "SpiceJet                 157\n",
       "GoFirst                  122\n",
       "AirAsia India            108\n",
       "Vistara, IndiGo            6\n",
       "Vistara, SpiceJet          4\n",
       "AirAsia India, IndiGo      3\n",
       "Name: airline, dtype: int64"
      ]
     },
     "execution_count": 162,
     "metadata": {},
     "output_type": "execute_result"
    }
   ],
   "source": [
    "data_flight['airline'].value_counts()"
   ]
  },
  {
   "cell_type": "code",
   "execution_count": 163,
   "id": "bfddab2d",
   "metadata": {},
   "outputs": [
    {
     "data": {
      "text/plain": [
       "DEL Indira Gandhi Intl    1497\n",
       "CCU Netaji S. Chandra        5\n",
       "Name: departure_city, dtype: int64"
      ]
     },
     "execution_count": 163,
     "metadata": {},
     "output_type": "execute_result"
    }
   ],
   "source": [
    "data_flight['departure_city'].value_counts()"
   ]
  },
  {
   "cell_type": "code",
   "execution_count": 164,
   "id": "c80b67d7",
   "metadata": {},
   "outputs": [
    {
     "data": {
      "text/plain": [
       "BLR Bengaluru Intl              339\n",
       "GOI Goa Intl                    247\n",
       "MAA Chennai                     246\n",
       "AMD Ahmedabad                   196\n",
       "TRV Thiruvananthapuram          187\n",
       "CCU Netaji S. Chandra           138\n",
       "HYD Rajiv Gandhi Intl            94\n",
       "BOM Chhatrapati Shivaji Intl     55\n",
       "Name: destination_city, dtype: int64"
      ]
     },
     "execution_count": 164,
     "metadata": {},
     "output_type": "execute_result"
    }
   ],
   "source": [
    "data_flight['destination_city'].value_counts()"
   ]
  },
  {
   "cell_type": "code",
   "execution_count": 165,
   "id": "9ad0014f",
   "metadata": {},
   "outputs": [
    {
     "data": {
      "text/plain": [
       "direct    1315\n",
       "1 stop     187\n",
       "Name: stop, dtype: int64"
      ]
     },
     "execution_count": 165,
     "metadata": {},
     "output_type": "execute_result"
    }
   ],
   "source": [
    "data_flight['stop'].value_counts()"
   ]
  },
  {
   "cell_type": "code",
   "execution_count": 166,
   "id": "f384ba41",
   "metadata": {},
   "outputs": [],
   "source": [
    "data= data_flight.drop(['Unnamed: 0','Unnamed: 0.1' ], axis=1)"
   ]
  },
  {
   "cell_type": "code",
   "execution_count": 167,
   "id": "e3cf9081",
   "metadata": {},
   "outputs": [],
   "source": [
    "df=data.assign(ticket=data['ticket fare'].str.replace(r'₹', ''))"
   ]
  },
  {
   "cell_type": "code",
   "execution_count": 168,
   "id": "034d13b4",
   "metadata": {},
   "outputs": [],
   "source": [
    "df1=df.assign(ticket1=df['ticket'].str.replace(r',', ''))"
   ]
  },
  {
   "cell_type": "code",
   "execution_count": 169,
   "id": "97387830",
   "metadata": {},
   "outputs": [
    {
     "data": {
      "text/html": [
       "<div>\n",
       "<style scoped>\n",
       "    .dataframe tbody tr th:only-of-type {\n",
       "        vertical-align: middle;\n",
       "    }\n",
       "\n",
       "    .dataframe tbody tr th {\n",
       "        vertical-align: top;\n",
       "    }\n",
       "\n",
       "    .dataframe thead th {\n",
       "        text-align: right;\n",
       "    }\n",
       "</style>\n",
       "<table border=\"1\" class=\"dataframe\">\n",
       "  <thead>\n",
       "    <tr style=\"text-align: right;\">\n",
       "      <th></th>\n",
       "      <th>airline</th>\n",
       "      <th>departure_city</th>\n",
       "      <th>departure_time</th>\n",
       "      <th>reaching_time</th>\n",
       "      <th>destination_city</th>\n",
       "      <th>journey_time</th>\n",
       "      <th>stop</th>\n",
       "      <th>ticket fare</th>\n",
       "      <th>ticket</th>\n",
       "      <th>ticket1</th>\n",
       "    </tr>\n",
       "  </thead>\n",
       "  <tbody>\n",
       "    <tr>\n",
       "      <th>0</th>\n",
       "      <td>Air India</td>\n",
       "      <td>DEL Indira Gandhi Intl</td>\n",
       "      <td>09:45</td>\n",
       "      <td>11:50</td>\n",
       "      <td>HYD Rajiv Gandhi Intl</td>\n",
       "      <td>2h 05m</td>\n",
       "      <td>direct</td>\n",
       "      <td>₹ 4,510</td>\n",
       "      <td>4,510</td>\n",
       "      <td>4510</td>\n",
       "    </tr>\n",
       "    <tr>\n",
       "      <th>1</th>\n",
       "      <td>Air India</td>\n",
       "      <td>DEL Indira Gandhi Intl</td>\n",
       "      <td>09:45</td>\n",
       "      <td>11:50</td>\n",
       "      <td>HYD Rajiv Gandhi Intl</td>\n",
       "      <td>2h 05m</td>\n",
       "      <td>direct</td>\n",
       "      <td>₹ 4,625</td>\n",
       "      <td>4,625</td>\n",
       "      <td>4625</td>\n",
       "    </tr>\n",
       "    <tr>\n",
       "      <th>2</th>\n",
       "      <td>SpiceJet</td>\n",
       "      <td>DEL Indira Gandhi Intl</td>\n",
       "      <td>21:55</td>\n",
       "      <td>00:15</td>\n",
       "      <td>HYD Rajiv Gandhi Intl</td>\n",
       "      <td>2h 20m</td>\n",
       "      <td>direct</td>\n",
       "      <td>₹ 4,625</td>\n",
       "      <td>4,625</td>\n",
       "      <td>4625</td>\n",
       "    </tr>\n",
       "    <tr>\n",
       "      <th>3</th>\n",
       "      <td>Air India</td>\n",
       "      <td>DEL Indira Gandhi Intl</td>\n",
       "      <td>07:10</td>\n",
       "      <td>09:25</td>\n",
       "      <td>HYD Rajiv Gandhi Intl</td>\n",
       "      <td>2h 15m</td>\n",
       "      <td>direct</td>\n",
       "      <td>₹ 4,510</td>\n",
       "      <td>4,510</td>\n",
       "      <td>4510</td>\n",
       "    </tr>\n",
       "    <tr>\n",
       "      <th>4</th>\n",
       "      <td>Vistara</td>\n",
       "      <td>DEL Indira Gandhi Intl</td>\n",
       "      <td>17:40</td>\n",
       "      <td>19:50</td>\n",
       "      <td>HYD Rajiv Gandhi Intl</td>\n",
       "      <td>2h 10m</td>\n",
       "      <td>direct</td>\n",
       "      <td>₹ 4,376</td>\n",
       "      <td>4,376</td>\n",
       "      <td>4376</td>\n",
       "    </tr>\n",
       "  </tbody>\n",
       "</table>\n",
       "</div>"
      ],
      "text/plain": [
       "     airline          departure_city departure_time reaching_time  \\\n",
       "0  Air India  DEL Indira Gandhi Intl          09:45         11:50   \n",
       "1  Air India  DEL Indira Gandhi Intl          09:45         11:50   \n",
       "2   SpiceJet  DEL Indira Gandhi Intl          21:55         00:15   \n",
       "3  Air India  DEL Indira Gandhi Intl          07:10         09:25   \n",
       "4    Vistara  DEL Indira Gandhi Intl          17:40         19:50   \n",
       "\n",
       "        destination_city journey_time    stop ticket fare  ticket ticket1  \n",
       "0  HYD Rajiv Gandhi Intl       2h 05m  direct     ₹ 4,510   4,510    4510  \n",
       "1  HYD Rajiv Gandhi Intl       2h 05m  direct     ₹ 4,625   4,625    4625  \n",
       "2  HYD Rajiv Gandhi Intl       2h 20m  direct     ₹ 4,625   4,625    4625  \n",
       "3  HYD Rajiv Gandhi Intl       2h 15m  direct     ₹ 4,510   4,510    4510  \n",
       "4  HYD Rajiv Gandhi Intl       2h 10m  direct     ₹ 4,376   4,376    4376  "
      ]
     },
     "execution_count": 169,
     "metadata": {},
     "output_type": "execute_result"
    }
   ],
   "source": [
    "df1.head()"
   ]
  },
  {
   "cell_type": "code",
   "execution_count": 170,
   "id": "d0ab08a4",
   "metadata": {},
   "outputs": [
    {
     "data": {
      "text/plain": [
       "str"
      ]
     },
     "execution_count": 170,
     "metadata": {},
     "output_type": "execute_result"
    }
   ],
   "source": [
    "type('ticket1')"
   ]
  },
  {
   "cell_type": "code",
   "execution_count": 171,
   "id": "e6187f52",
   "metadata": {},
   "outputs": [],
   "source": [
    "df2= df1.drop(['ticket fare','ticket' ], axis=1)"
   ]
  },
  {
   "cell_type": "code",
   "execution_count": 172,
   "id": "2338647e",
   "metadata": {},
   "outputs": [],
   "source": [
    "df2[\"ticket1\"] = df2[\"ticket1\"].astype(str).astype(int)"
   ]
  },
  {
   "cell_type": "markdown",
   "id": "623e246b",
   "metadata": {},
   "source": [
    "No nan values in data set, so moving forward"
   ]
  },
  {
   "cell_type": "code",
   "execution_count": 173,
   "id": "b7bae37d",
   "metadata": {},
   "outputs": [],
   "source": [
    "import matplotlib.pyplot as plt\n",
    "import seaborn as sns\n",
    "\n",
    "from sklearn.preprocessing import StandardScaler\n",
    "from sklearn.model_selection import train_test_split\n",
    "from sklearn.metrics import mean_squared_error as mse\n",
    "from sklearn.metrics import r2_score\n",
    "from math import sqrt\n",
    "from sklearn.linear_model import Ridge\n",
    "from sklearn.linear_model import Lasso\n",
    "from sklearn.tree import DecisionTreeRegressor\n",
    "from sklearn.ensemble import RandomForestRegressor\n",
    "from sklearn.preprocessing import LabelEncoder\n",
    "from sklearn.model_selection import KFold\n",
    "from sklearn.model_selection import train_test_split\n",
    "from sklearn.model_selection import GridSearchCV\n",
    "from sklearn.model_selection import RandomizedSearchCV"
   ]
  },
  {
   "cell_type": "code",
   "execution_count": 174,
   "id": "b9ece5b8",
   "metadata": {},
   "outputs": [
    {
     "data": {
      "image/png": "[encoded data removed]",
      "text/plain": [
       "<Figure size 1728x576 with 1 Axes>"
      ]
     },
     "metadata": {
      "needs_background": "light"
     },
     "output_type": "display_data"
    }
   ],
   "source": [
    "sns.catplot(y = \"ticket1\", x = \"airline\", data = df2.sort_values(\"ticket1\", ascending = False),kind=\"boxen\", height = 8, aspect = 3)\n",
    "plt.show()"
   ]
  },
  {
   "cell_type": "code",
   "execution_count": 175,
   "id": "863e5e86",
   "metadata": {},
   "outputs": [
    {
     "data": {
      "image/png": "[encoded data removed]",
      "text/plain": [
       "<Figure size 1728x576 with 1 Axes>"
      ]
     },
     "metadata": {
      "needs_background": "light"
     },
     "output_type": "display_data"
    }
   ],
   "source": [
    "sns.catplot(y = \"ticket1\", x = \"destination_city\", data = df2.sort_values(\"ticket1\", ascending = False),kind=\"boxen\", height = 8, aspect = 3)\n",
    "plt.show()"
   ]
  },
  {
   "cell_type": "code",
   "execution_count": 176,
   "id": "cd91157e",
   "metadata": {},
   "outputs": [
    {
     "data": {
      "image/png": "[encoded data removed]",
      "text/plain": [
       "<Figure size 1728x576 with 1 Axes>"
      ]
     },
     "metadata": {
      "needs_background": "light"
     },
     "output_type": "display_data"
    }
   ],
   "source": [
    "sns.catplot(y = \"ticket1\", x = \"departure_city\", data = df2.sort_values(\"ticket1\", ascending = False),kind=\"boxen\", height = 8, aspect = 3)\n",
    "plt.show()"
   ]
  },
  {
   "cell_type": "code",
   "execution_count": 177,
   "id": "719f22fa",
   "metadata": {},
   "outputs": [],
   "source": [
    "df2[\"departure_hr\"] = pd.to_datetime(df2[\"departure_time\"]).dt.hour\n",
    "df2[\"departure_min\"] = pd.to_datetime(df2[\"departure_time\"]).dt.minute\n",
    "df2.drop([\"departure_time\"], axis = 1, inplace = True)"
   ]
  },
  {
   "cell_type": "code",
   "execution_count": 178,
   "id": "d8eeffa0",
   "metadata": {},
   "outputs": [],
   "source": [
    "df2[\"reaching_hr\"] = pd.to_datetime(df2[\"reaching_time\"]).dt.hour\n",
    "df2[\"reaching_min\"] = pd.to_datetime(df2[\"reaching_time\"]).dt.minute\n",
    "df2.drop([\"reaching_time\"], axis = 1, inplace = True)"
   ]
  },
  {
   "cell_type": "code",
   "execution_count": 179,
   "id": "af736e95",
   "metadata": {},
   "outputs": [
    {
     "data": {
      "text/html": [
       "<div>\n",
       "<style scoped>\n",
       "    .dataframe tbody tr th:only-of-type {\n",
       "        vertical-align: middle;\n",
       "    }\n",
       "\n",
       "    .dataframe tbody tr th {\n",
       "        vertical-align: top;\n",
       "    }\n",
       "\n",
       "    .dataframe thead th {\n",
       "        text-align: right;\n",
       "    }\n",
       "</style>\n",
       "<table border=\"1\" class=\"dataframe\">\n",
       "  <thead>\n",
       "    <tr style=\"text-align: right;\">\n",
       "      <th></th>\n",
       "      <th>airline</th>\n",
       "      <th>departure_city</th>\n",
       "      <th>destination_city</th>\n",
       "      <th>journey_time</th>\n",
       "      <th>stop</th>\n",
       "      <th>ticket1</th>\n",
       "      <th>departure_hr</th>\n",
       "      <th>departure_min</th>\n",
       "      <th>reaching_hr</th>\n",
       "      <th>reaching_min</th>\n",
       "    </tr>\n",
       "  </thead>\n",
       "  <tbody>\n",
       "    <tr>\n",
       "      <th>0</th>\n",
       "      <td>Air India</td>\n",
       "      <td>DEL Indira Gandhi Intl</td>\n",
       "      <td>HYD Rajiv Gandhi Intl</td>\n",
       "      <td>2h 05m</td>\n",
       "      <td>direct</td>\n",
       "      <td>4510</td>\n",
       "      <td>9</td>\n",
       "      <td>45</td>\n",
       "      <td>11</td>\n",
       "      <td>50</td>\n",
       "    </tr>\n",
       "    <tr>\n",
       "      <th>1</th>\n",
       "      <td>Air India</td>\n",
       "      <td>DEL Indira Gandhi Intl</td>\n",
       "      <td>HYD Rajiv Gandhi Intl</td>\n",
       "      <td>2h 05m</td>\n",
       "      <td>direct</td>\n",
       "      <td>4625</td>\n",
       "      <td>9</td>\n",
       "      <td>45</td>\n",
       "      <td>11</td>\n",
       "      <td>50</td>\n",
       "    </tr>\n",
       "    <tr>\n",
       "      <th>2</th>\n",
       "      <td>SpiceJet</td>\n",
       "      <td>DEL Indira Gandhi Intl</td>\n",
       "      <td>HYD Rajiv Gandhi Intl</td>\n",
       "      <td>2h 20m</td>\n",
       "      <td>direct</td>\n",
       "      <td>4625</td>\n",
       "      <td>21</td>\n",
       "      <td>55</td>\n",
       "      <td>0</td>\n",
       "      <td>15</td>\n",
       "    </tr>\n",
       "    <tr>\n",
       "      <th>3</th>\n",
       "      <td>Air India</td>\n",
       "      <td>DEL Indira Gandhi Intl</td>\n",
       "      <td>HYD Rajiv Gandhi Intl</td>\n",
       "      <td>2h 15m</td>\n",
       "      <td>direct</td>\n",
       "      <td>4510</td>\n",
       "      <td>7</td>\n",
       "      <td>10</td>\n",
       "      <td>9</td>\n",
       "      <td>25</td>\n",
       "    </tr>\n",
       "    <tr>\n",
       "      <th>4</th>\n",
       "      <td>Vistara</td>\n",
       "      <td>DEL Indira Gandhi Intl</td>\n",
       "      <td>HYD Rajiv Gandhi Intl</td>\n",
       "      <td>2h 10m</td>\n",
       "      <td>direct</td>\n",
       "      <td>4376</td>\n",
       "      <td>17</td>\n",
       "      <td>40</td>\n",
       "      <td>19</td>\n",
       "      <td>50</td>\n",
       "    </tr>\n",
       "  </tbody>\n",
       "</table>\n",
       "</div>"
      ],
      "text/plain": [
       "     airline          departure_city       destination_city journey_time  \\\n",
       "0  Air India  DEL Indira Gandhi Intl  HYD Rajiv Gandhi Intl       2h 05m   \n",
       "1  Air India  DEL Indira Gandhi Intl  HYD Rajiv Gandhi Intl       2h 05m   \n",
       "2   SpiceJet  DEL Indira Gandhi Intl  HYD Rajiv Gandhi Intl       2h 20m   \n",
       "3  Air India  DEL Indira Gandhi Intl  HYD Rajiv Gandhi Intl       2h 15m   \n",
       "4    Vistara  DEL Indira Gandhi Intl  HYD Rajiv Gandhi Intl       2h 10m   \n",
       "\n",
       "     stop  ticket1  departure_hr  departure_min  reaching_hr  reaching_min  \n",
       "0  direct     4510             9             45           11            50  \n",
       "1  direct     4625             9             45           11            50  \n",
       "2  direct     4625            21             55            0            15  \n",
       "3  direct     4510             7             10            9            25  \n",
       "4  direct     4376            17             40           19            50  "
      ]
     },
     "execution_count": 179,
     "metadata": {},
     "output_type": "execute_result"
    }
   ],
   "source": [
    "df2.head()"
   ]
  },
  {
   "cell_type": "code",
   "execution_count": 180,
   "id": "a3f00067",
   "metadata": {},
   "outputs": [],
   "source": [
    "df2[\"journey_hr\"]=pd.DataFrame(df2.journey_time.str.split(' ').str[0].tolist())\n",
    "df2[\"journey_min\"]=pd.DataFrame(df2.journey_time.str.split(' ').str[1].tolist())"
   ]
  },
  {
   "cell_type": "code",
   "execution_count": 181,
   "id": "6d4d96a1",
   "metadata": {},
   "outputs": [
    {
     "data": {
      "text/html": [
       "<div>\n",
       "<style scoped>\n",
       "    .dataframe tbody tr th:only-of-type {\n",
       "        vertical-align: middle;\n",
       "    }\n",
       "\n",
       "    .dataframe tbody tr th {\n",
       "        vertical-align: top;\n",
       "    }\n",
       "\n",
       "    .dataframe thead th {\n",
       "        text-align: right;\n",
       "    }\n",
       "</style>\n",
       "<table border=\"1\" class=\"dataframe\">\n",
       "  <thead>\n",
       "    <tr style=\"text-align: right;\">\n",
       "      <th></th>\n",
       "      <th>airline</th>\n",
       "      <th>departure_city</th>\n",
       "      <th>destination_city</th>\n",
       "      <th>journey_time</th>\n",
       "      <th>stop</th>\n",
       "      <th>ticket1</th>\n",
       "      <th>departure_hr</th>\n",
       "      <th>departure_min</th>\n",
       "      <th>reaching_hr</th>\n",
       "      <th>reaching_min</th>\n",
       "      <th>journey_hr</th>\n",
       "      <th>journey_min</th>\n",
       "    </tr>\n",
       "  </thead>\n",
       "  <tbody>\n",
       "    <tr>\n",
       "      <th>0</th>\n",
       "      <td>Air India</td>\n",
       "      <td>DEL Indira Gandhi Intl</td>\n",
       "      <td>HYD Rajiv Gandhi Intl</td>\n",
       "      <td>2h 05m</td>\n",
       "      <td>direct</td>\n",
       "      <td>4510</td>\n",
       "      <td>9</td>\n",
       "      <td>45</td>\n",
       "      <td>11</td>\n",
       "      <td>50</td>\n",
       "      <td>2h</td>\n",
       "      <td>05m</td>\n",
       "    </tr>\n",
       "    <tr>\n",
       "      <th>1</th>\n",
       "      <td>Air India</td>\n",
       "      <td>DEL Indira Gandhi Intl</td>\n",
       "      <td>HYD Rajiv Gandhi Intl</td>\n",
       "      <td>2h 05m</td>\n",
       "      <td>direct</td>\n",
       "      <td>4625</td>\n",
       "      <td>9</td>\n",
       "      <td>45</td>\n",
       "      <td>11</td>\n",
       "      <td>50</td>\n",
       "      <td>2h</td>\n",
       "      <td>05m</td>\n",
       "    </tr>\n",
       "    <tr>\n",
       "      <th>2</th>\n",
       "      <td>SpiceJet</td>\n",
       "      <td>DEL Indira Gandhi Intl</td>\n",
       "      <td>HYD Rajiv Gandhi Intl</td>\n",
       "      <td>2h 20m</td>\n",
       "      <td>direct</td>\n",
       "      <td>4625</td>\n",
       "      <td>21</td>\n",
       "      <td>55</td>\n",
       "      <td>0</td>\n",
       "      <td>15</td>\n",
       "      <td>2h</td>\n",
       "      <td>20m</td>\n",
       "    </tr>\n",
       "    <tr>\n",
       "      <th>3</th>\n",
       "      <td>Air India</td>\n",
       "      <td>DEL Indira Gandhi Intl</td>\n",
       "      <td>HYD Rajiv Gandhi Intl</td>\n",
       "      <td>2h 15m</td>\n",
       "      <td>direct</td>\n",
       "      <td>4510</td>\n",
       "      <td>7</td>\n",
       "      <td>10</td>\n",
       "      <td>9</td>\n",
       "      <td>25</td>\n",
       "      <td>2h</td>\n",
       "      <td>15m</td>\n",
       "    </tr>\n",
       "    <tr>\n",
       "      <th>4</th>\n",
       "      <td>Vistara</td>\n",
       "      <td>DEL Indira Gandhi Intl</td>\n",
       "      <td>HYD Rajiv Gandhi Intl</td>\n",
       "      <td>2h 10m</td>\n",
       "      <td>direct</td>\n",
       "      <td>4376</td>\n",
       "      <td>17</td>\n",
       "      <td>40</td>\n",
       "      <td>19</td>\n",
       "      <td>50</td>\n",
       "      <td>2h</td>\n",
       "      <td>10m</td>\n",
       "    </tr>\n",
       "    <tr>\n",
       "      <th>...</th>\n",
       "      <td>...</td>\n",
       "      <td>...</td>\n",
       "      <td>...</td>\n",
       "      <td>...</td>\n",
       "      <td>...</td>\n",
       "      <td>...</td>\n",
       "      <td>...</td>\n",
       "      <td>...</td>\n",
       "      <td>...</td>\n",
       "      <td>...</td>\n",
       "      <td>...</td>\n",
       "      <td>...</td>\n",
       "    </tr>\n",
       "    <tr>\n",
       "      <th>1497</th>\n",
       "      <td>Vistara</td>\n",
       "      <td>DEL Indira Gandhi Intl</td>\n",
       "      <td>AMD Ahmedabad</td>\n",
       "      <td>1h 35m</td>\n",
       "      <td>direct</td>\n",
       "      <td>5700</td>\n",
       "      <td>14</td>\n",
       "      <td>45</td>\n",
       "      <td>18</td>\n",
       "      <td>55</td>\n",
       "      <td>1h</td>\n",
       "      <td>35m</td>\n",
       "    </tr>\n",
       "    <tr>\n",
       "      <th>1498</th>\n",
       "      <td>IndiGo</td>\n",
       "      <td>DEL Indira Gandhi Intl</td>\n",
       "      <td>AMD Ahmedabad</td>\n",
       "      <td>1h 35m</td>\n",
       "      <td>direct</td>\n",
       "      <td>5367</td>\n",
       "      <td>6</td>\n",
       "      <td>25</td>\n",
       "      <td>8</td>\n",
       "      <td>5</td>\n",
       "      <td>1h</td>\n",
       "      <td>35m</td>\n",
       "    </tr>\n",
       "    <tr>\n",
       "      <th>1499</th>\n",
       "      <td>IndiGo</td>\n",
       "      <td>DEL Indira Gandhi Intl</td>\n",
       "      <td>AMD Ahmedabad</td>\n",
       "      <td>1h 40m</td>\n",
       "      <td>direct</td>\n",
       "      <td>18173</td>\n",
       "      <td>19</td>\n",
       "      <td>0</td>\n",
       "      <td>6</td>\n",
       "      <td>25</td>\n",
       "      <td>1h</td>\n",
       "      <td>40m</td>\n",
       "    </tr>\n",
       "    <tr>\n",
       "      <th>1500</th>\n",
       "      <td>Vistara, SpiceJet</td>\n",
       "      <td>DEL Indira Gandhi Intl</td>\n",
       "      <td>AMD Ahmedabad</td>\n",
       "      <td>1h 55m</td>\n",
       "      <td>direct</td>\n",
       "      <td>18173</td>\n",
       "      <td>18</td>\n",
       "      <td>15</td>\n",
       "      <td>0</td>\n",
       "      <td>10</td>\n",
       "      <td>1h</td>\n",
       "      <td>55m</td>\n",
       "    </tr>\n",
       "    <tr>\n",
       "      <th>1501</th>\n",
       "      <td>IndiGo</td>\n",
       "      <td>DEL Indira Gandhi Intl</td>\n",
       "      <td>AMD Ahmedabad</td>\n",
       "      <td>4h 15m</td>\n",
       "      <td>direct</td>\n",
       "      <td>18156</td>\n",
       "      <td>6</td>\n",
       "      <td>10</td>\n",
       "      <td>21</td>\n",
       "      <td>15</td>\n",
       "      <td>4h</td>\n",
       "      <td>15m</td>\n",
       "    </tr>\n",
       "  </tbody>\n",
       "</table>\n",
       "<p>1502 rows × 12 columns</p>\n",
       "</div>"
      ],
      "text/plain": [
       "                airline          departure_city       destination_city  \\\n",
       "0             Air India  DEL Indira Gandhi Intl  HYD Rajiv Gandhi Intl   \n",
       "1             Air India  DEL Indira Gandhi Intl  HYD Rajiv Gandhi Intl   \n",
       "2              SpiceJet  DEL Indira Gandhi Intl  HYD Rajiv Gandhi Intl   \n",
       "3             Air India  DEL Indira Gandhi Intl  HYD Rajiv Gandhi Intl   \n",
       "4               Vistara  DEL Indira Gandhi Intl  HYD Rajiv Gandhi Intl   \n",
       "...                 ...                     ...                    ...   \n",
       "1497            Vistara  DEL Indira Gandhi Intl          AMD Ahmedabad   \n",
       "1498             IndiGo  DEL Indira Gandhi Intl          AMD Ahmedabad   \n",
       "1499             IndiGo  DEL Indira Gandhi Intl          AMD Ahmedabad   \n",
       "1500  Vistara, SpiceJet  DEL Indira Gandhi Intl          AMD Ahmedabad   \n",
       "1501             IndiGo  DEL Indira Gandhi Intl          AMD Ahmedabad   \n",
       "\n",
       "     journey_time    stop  ticket1  departure_hr  departure_min  reaching_hr  \\\n",
       "0          2h 05m  direct     4510             9             45           11   \n",
       "1          2h 05m  direct     4625             9             45           11   \n",
       "2          2h 20m  direct     4625            21             55            0   \n",
       "3          2h 15m  direct     4510             7             10            9   \n",
       "4          2h 10m  direct     4376            17             40           19   \n",
       "...           ...     ...      ...           ...            ...          ...   \n",
       "1497       1h 35m  direct     5700            14             45           18   \n",
       "1498       1h 35m  direct     5367             6             25            8   \n",
       "1499       1h 40m  direct    18173            19              0            6   \n",
       "1500       1h 55m  direct    18173            18             15            0   \n",
       "1501       4h 15m  direct    18156             6             10           21   \n",
       "\n",
       "      reaching_min journey_hr journey_min  \n",
       "0               50         2h         05m  \n",
       "1               50         2h         05m  \n",
       "2               15         2h         20m  \n",
       "3               25         2h         15m  \n",
       "4               50         2h         10m  \n",
       "...            ...        ...         ...  \n",
       "1497            55         1h         35m  \n",
       "1498             5         1h         35m  \n",
       "1499            25         1h         40m  \n",
       "1500            10         1h         55m  \n",
       "1501            15         4h         15m  \n",
       "\n",
       "[1502 rows x 12 columns]"
      ]
     },
     "execution_count": 181,
     "metadata": {},
     "output_type": "execute_result"
    }
   ],
   "source": [
    "df2"
   ]
  },
  {
   "cell_type": "code",
   "execution_count": 182,
   "id": "b32505a0",
   "metadata": {},
   "outputs": [],
   "source": [
    "df2['journey_hr']=df2['journey_hr'].str.replace(r'h', '')\n",
    "df2['journey_min']=df2['journey_min'].str.replace(r'm', '')"
   ]
  },
  {
   "cell_type": "code",
   "execution_count": 183,
   "id": "65991df1",
   "metadata": {},
   "outputs": [],
   "source": [
    "df2[\"journey_hr\"] = df2[\"journey_hr\"].astype(str).astype(int)\n",
    "df2[\"journey_min\"] = df2[\"journey_min\"].astype(str).astype(int)"
   ]
  },
  {
   "cell_type": "code",
   "execution_count": 184,
   "id": "13f830c3",
   "metadata": {},
   "outputs": [],
   "source": [
    "df2[\"total_journey\"]=df2[\"journey_hr\"]*60+df2[\"journey_min\"]"
   ]
  },
  {
   "cell_type": "code",
   "execution_count": 185,
   "id": "6b1516dc",
   "metadata": {},
   "outputs": [
    {
     "data": {
      "text/html": [
       "<div>\n",
       "<style scoped>\n",
       "    .dataframe tbody tr th:only-of-type {\n",
       "        vertical-align: middle;\n",
       "    }\n",
       "\n",
       "    .dataframe tbody tr th {\n",
       "        vertical-align: top;\n",
       "    }\n",
       "\n",
       "    .dataframe thead th {\n",
       "        text-align: right;\n",
       "    }\n",
       "</style>\n",
       "<table border=\"1\" class=\"dataframe\">\n",
       "  <thead>\n",
       "    <tr style=\"text-align: right;\">\n",
       "      <th></th>\n",
       "      <th>airline</th>\n",
       "      <th>departure_city</th>\n",
       "      <th>destination_city</th>\n",
       "      <th>journey_time</th>\n",
       "      <th>stop</th>\n",
       "      <th>ticket1</th>\n",
       "      <th>departure_hr</th>\n",
       "      <th>departure_min</th>\n",
       "      <th>reaching_hr</th>\n",
       "      <th>reaching_min</th>\n",
       "      <th>journey_hr</th>\n",
       "      <th>journey_min</th>\n",
       "      <th>total_journey</th>\n",
       "    </tr>\n",
       "  </thead>\n",
       "  <tbody>\n",
       "    <tr>\n",
       "      <th>0</th>\n",
       "      <td>Air India</td>\n",
       "      <td>DEL Indira Gandhi Intl</td>\n",
       "      <td>HYD Rajiv Gandhi Intl</td>\n",
       "      <td>2h 05m</td>\n",
       "      <td>direct</td>\n",
       "      <td>4510</td>\n",
       "      <td>9</td>\n",
       "      <td>45</td>\n",
       "      <td>11</td>\n",
       "      <td>50</td>\n",
       "      <td>2</td>\n",
       "      <td>5</td>\n",
       "      <td>125</td>\n",
       "    </tr>\n",
       "    <tr>\n",
       "      <th>1</th>\n",
       "      <td>Air India</td>\n",
       "      <td>DEL Indira Gandhi Intl</td>\n",
       "      <td>HYD Rajiv Gandhi Intl</td>\n",
       "      <td>2h 05m</td>\n",
       "      <td>direct</td>\n",
       "      <td>4625</td>\n",
       "      <td>9</td>\n",
       "      <td>45</td>\n",
       "      <td>11</td>\n",
       "      <td>50</td>\n",
       "      <td>2</td>\n",
       "      <td>5</td>\n",
       "      <td>125</td>\n",
       "    </tr>\n",
       "    <tr>\n",
       "      <th>2</th>\n",
       "      <td>SpiceJet</td>\n",
       "      <td>DEL Indira Gandhi Intl</td>\n",
       "      <td>HYD Rajiv Gandhi Intl</td>\n",
       "      <td>2h 20m</td>\n",
       "      <td>direct</td>\n",
       "      <td>4625</td>\n",
       "      <td>21</td>\n",
       "      <td>55</td>\n",
       "      <td>0</td>\n",
       "      <td>15</td>\n",
       "      <td>2</td>\n",
       "      <td>20</td>\n",
       "      <td>140</td>\n",
       "    </tr>\n",
       "    <tr>\n",
       "      <th>3</th>\n",
       "      <td>Air India</td>\n",
       "      <td>DEL Indira Gandhi Intl</td>\n",
       "      <td>HYD Rajiv Gandhi Intl</td>\n",
       "      <td>2h 15m</td>\n",
       "      <td>direct</td>\n",
       "      <td>4510</td>\n",
       "      <td>7</td>\n",
       "      <td>10</td>\n",
       "      <td>9</td>\n",
       "      <td>25</td>\n",
       "      <td>2</td>\n",
       "      <td>15</td>\n",
       "      <td>135</td>\n",
       "    </tr>\n",
       "    <tr>\n",
       "      <th>4</th>\n",
       "      <td>Vistara</td>\n",
       "      <td>DEL Indira Gandhi Intl</td>\n",
       "      <td>HYD Rajiv Gandhi Intl</td>\n",
       "      <td>2h 10m</td>\n",
       "      <td>direct</td>\n",
       "      <td>4376</td>\n",
       "      <td>17</td>\n",
       "      <td>40</td>\n",
       "      <td>19</td>\n",
       "      <td>50</td>\n",
       "      <td>2</td>\n",
       "      <td>10</td>\n",
       "      <td>130</td>\n",
       "    </tr>\n",
       "    <tr>\n",
       "      <th>...</th>\n",
       "      <td>...</td>\n",
       "      <td>...</td>\n",
       "      <td>...</td>\n",
       "      <td>...</td>\n",
       "      <td>...</td>\n",
       "      <td>...</td>\n",
       "      <td>...</td>\n",
       "      <td>...</td>\n",
       "      <td>...</td>\n",
       "      <td>...</td>\n",
       "      <td>...</td>\n",
       "      <td>...</td>\n",
       "      <td>...</td>\n",
       "    </tr>\n",
       "    <tr>\n",
       "      <th>1497</th>\n",
       "      <td>Vistara</td>\n",
       "      <td>DEL Indira Gandhi Intl</td>\n",
       "      <td>AMD Ahmedabad</td>\n",
       "      <td>1h 35m</td>\n",
       "      <td>direct</td>\n",
       "      <td>5700</td>\n",
       "      <td>14</td>\n",
       "      <td>45</td>\n",
       "      <td>18</td>\n",
       "      <td>55</td>\n",
       "      <td>1</td>\n",
       "      <td>35</td>\n",
       "      <td>95</td>\n",
       "    </tr>\n",
       "    <tr>\n",
       "      <th>1498</th>\n",
       "      <td>IndiGo</td>\n",
       "      <td>DEL Indira Gandhi Intl</td>\n",
       "      <td>AMD Ahmedabad</td>\n",
       "      <td>1h 35m</td>\n",
       "      <td>direct</td>\n",
       "      <td>5367</td>\n",
       "      <td>6</td>\n",
       "      <td>25</td>\n",
       "      <td>8</td>\n",
       "      <td>5</td>\n",
       "      <td>1</td>\n",
       "      <td>35</td>\n",
       "      <td>95</td>\n",
       "    </tr>\n",
       "    <tr>\n",
       "      <th>1499</th>\n",
       "      <td>IndiGo</td>\n",
       "      <td>DEL Indira Gandhi Intl</td>\n",
       "      <td>AMD Ahmedabad</td>\n",
       "      <td>1h 40m</td>\n",
       "      <td>direct</td>\n",
       "      <td>18173</td>\n",
       "      <td>19</td>\n",
       "      <td>0</td>\n",
       "      <td>6</td>\n",
       "      <td>25</td>\n",
       "      <td>1</td>\n",
       "      <td>40</td>\n",
       "      <td>100</td>\n",
       "    </tr>\n",
       "    <tr>\n",
       "      <th>1500</th>\n",
       "      <td>Vistara, SpiceJet</td>\n",
       "      <td>DEL Indira Gandhi Intl</td>\n",
       "      <td>AMD Ahmedabad</td>\n",
       "      <td>1h 55m</td>\n",
       "      <td>direct</td>\n",
       "      <td>18173</td>\n",
       "      <td>18</td>\n",
       "      <td>15</td>\n",
       "      <td>0</td>\n",
       "      <td>10</td>\n",
       "      <td>1</td>\n",
       "      <td>55</td>\n",
       "      <td>115</td>\n",
       "    </tr>\n",
       "    <tr>\n",
       "      <th>1501</th>\n",
       "      <td>IndiGo</td>\n",
       "      <td>DEL Indira Gandhi Intl</td>\n",
       "      <td>AMD Ahmedabad</td>\n",
       "      <td>4h 15m</td>\n",
       "      <td>direct</td>\n",
       "      <td>18156</td>\n",
       "      <td>6</td>\n",
       "      <td>10</td>\n",
       "      <td>21</td>\n",
       "      <td>15</td>\n",
       "      <td>4</td>\n",
       "      <td>15</td>\n",
       "      <td>255</td>\n",
       "    </tr>\n",
       "  </tbody>\n",
       "</table>\n",
       "<p>1502 rows × 13 columns</p>\n",
       "</div>"
      ],
      "text/plain": [
       "                airline          departure_city       destination_city  \\\n",
       "0             Air India  DEL Indira Gandhi Intl  HYD Rajiv Gandhi Intl   \n",
       "1             Air India  DEL Indira Gandhi Intl  HYD Rajiv Gandhi Intl   \n",
       "2              SpiceJet  DEL Indira Gandhi Intl  HYD Rajiv Gandhi Intl   \n",
       "3             Air India  DEL Indira Gandhi Intl  HYD Rajiv Gandhi Intl   \n",
       "4               Vistara  DEL Indira Gandhi Intl  HYD Rajiv Gandhi Intl   \n",
       "...                 ...                     ...                    ...   \n",
       "1497            Vistara  DEL Indira Gandhi Intl          AMD Ahmedabad   \n",
       "1498             IndiGo  DEL Indira Gandhi Intl          AMD Ahmedabad   \n",
       "1499             IndiGo  DEL Indira Gandhi Intl          AMD Ahmedabad   \n",
       "1500  Vistara, SpiceJet  DEL Indira Gandhi Intl          AMD Ahmedabad   \n",
       "1501             IndiGo  DEL Indira Gandhi Intl          AMD Ahmedabad   \n",
       "\n",
       "     journey_time    stop  ticket1  departure_hr  departure_min  reaching_hr  \\\n",
       "0          2h 05m  direct     4510             9             45           11   \n",
       "1          2h 05m  direct     4625             9             45           11   \n",
       "2          2h 20m  direct     4625            21             55            0   \n",
       "3          2h 15m  direct     4510             7             10            9   \n",
       "4          2h 10m  direct     4376            17             40           19   \n",
       "...           ...     ...      ...           ...            ...          ...   \n",
       "1497       1h 35m  direct     5700            14             45           18   \n",
       "1498       1h 35m  direct     5367             6             25            8   \n",
       "1499       1h 40m  direct    18173            19              0            6   \n",
       "1500       1h 55m  direct    18173            18             15            0   \n",
       "1501       4h 15m  direct    18156             6             10           21   \n",
       "\n",
       "      reaching_min  journey_hr  journey_min  total_journey  \n",
       "0               50           2            5            125  \n",
       "1               50           2            5            125  \n",
       "2               15           2           20            140  \n",
       "3               25           2           15            135  \n",
       "4               50           2           10            130  \n",
       "...            ...         ...          ...            ...  \n",
       "1497            55           1           35             95  \n",
       "1498             5           1           35             95  \n",
       "1499            25           1           40            100  \n",
       "1500            10           1           55            115  \n",
       "1501            15           4           15            255  \n",
       "\n",
       "[1502 rows x 13 columns]"
      ]
     },
     "execution_count": 185,
     "metadata": {},
     "output_type": "execute_result"
    }
   ],
   "source": [
    "df2"
   ]
  },
  {
   "cell_type": "code",
   "execution_count": 186,
   "id": "1bb8adc7",
   "metadata": {},
   "outputs": [],
   "source": [
    "df_flight= df2.drop(['journey_hr','journey_min','journey_time' ], axis=1)"
   ]
  },
  {
   "cell_type": "code",
   "execution_count": 187,
   "id": "32228bc7",
   "metadata": {},
   "outputs": [
    {
     "data": {
      "text/html": [
       "<div>\n",
       "<style scoped>\n",
       "    .dataframe tbody tr th:only-of-type {\n",
       "        vertical-align: middle;\n",
       "    }\n",
       "\n",
       "    .dataframe tbody tr th {\n",
       "        vertical-align: top;\n",
       "    }\n",
       "\n",
       "    .dataframe thead th {\n",
       "        text-align: right;\n",
       "    }\n",
       "</style>\n",
       "<table border=\"1\" class=\"dataframe\">\n",
       "  <thead>\n",
       "    <tr style=\"text-align: right;\">\n",
       "      <th></th>\n",
       "      <th>airline</th>\n",
       "      <th>departure_city</th>\n",
       "      <th>destination_city</th>\n",
       "      <th>stop</th>\n",
       "      <th>ticket1</th>\n",
       "      <th>departure_hr</th>\n",
       "      <th>departure_min</th>\n",
       "      <th>reaching_hr</th>\n",
       "      <th>reaching_min</th>\n",
       "      <th>total_journey</th>\n",
       "    </tr>\n",
       "  </thead>\n",
       "  <tbody>\n",
       "    <tr>\n",
       "      <th>0</th>\n",
       "      <td>Air India</td>\n",
       "      <td>DEL Indira Gandhi Intl</td>\n",
       "      <td>HYD Rajiv Gandhi Intl</td>\n",
       "      <td>direct</td>\n",
       "      <td>4510</td>\n",
       "      <td>9</td>\n",
       "      <td>45</td>\n",
       "      <td>11</td>\n",
       "      <td>50</td>\n",
       "      <td>125</td>\n",
       "    </tr>\n",
       "    <tr>\n",
       "      <th>1</th>\n",
       "      <td>Air India</td>\n",
       "      <td>DEL Indira Gandhi Intl</td>\n",
       "      <td>HYD Rajiv Gandhi Intl</td>\n",
       "      <td>direct</td>\n",
       "      <td>4625</td>\n",
       "      <td>9</td>\n",
       "      <td>45</td>\n",
       "      <td>11</td>\n",
       "      <td>50</td>\n",
       "      <td>125</td>\n",
       "    </tr>\n",
       "    <tr>\n",
       "      <th>2</th>\n",
       "      <td>SpiceJet</td>\n",
       "      <td>DEL Indira Gandhi Intl</td>\n",
       "      <td>HYD Rajiv Gandhi Intl</td>\n",
       "      <td>direct</td>\n",
       "      <td>4625</td>\n",
       "      <td>21</td>\n",
       "      <td>55</td>\n",
       "      <td>0</td>\n",
       "      <td>15</td>\n",
       "      <td>140</td>\n",
       "    </tr>\n",
       "    <tr>\n",
       "      <th>3</th>\n",
       "      <td>Air India</td>\n",
       "      <td>DEL Indira Gandhi Intl</td>\n",
       "      <td>HYD Rajiv Gandhi Intl</td>\n",
       "      <td>direct</td>\n",
       "      <td>4510</td>\n",
       "      <td>7</td>\n",
       "      <td>10</td>\n",
       "      <td>9</td>\n",
       "      <td>25</td>\n",
       "      <td>135</td>\n",
       "    </tr>\n",
       "    <tr>\n",
       "      <th>4</th>\n",
       "      <td>Vistara</td>\n",
       "      <td>DEL Indira Gandhi Intl</td>\n",
       "      <td>HYD Rajiv Gandhi Intl</td>\n",
       "      <td>direct</td>\n",
       "      <td>4376</td>\n",
       "      <td>17</td>\n",
       "      <td>40</td>\n",
       "      <td>19</td>\n",
       "      <td>50</td>\n",
       "      <td>130</td>\n",
       "    </tr>\n",
       "    <tr>\n",
       "      <th>...</th>\n",
       "      <td>...</td>\n",
       "      <td>...</td>\n",
       "      <td>...</td>\n",
       "      <td>...</td>\n",
       "      <td>...</td>\n",
       "      <td>...</td>\n",
       "      <td>...</td>\n",
       "      <td>...</td>\n",
       "      <td>...</td>\n",
       "      <td>...</td>\n",
       "    </tr>\n",
       "    <tr>\n",
       "      <th>1497</th>\n",
       "      <td>Vistara</td>\n",
       "      <td>DEL Indira Gandhi Intl</td>\n",
       "      <td>AMD Ahmedabad</td>\n",
       "      <td>direct</td>\n",
       "      <td>5700</td>\n",
       "      <td>14</td>\n",
       "      <td>45</td>\n",
       "      <td>18</td>\n",
       "      <td>55</td>\n",
       "      <td>95</td>\n",
       "    </tr>\n",
       "    <tr>\n",
       "      <th>1498</th>\n",
       "      <td>IndiGo</td>\n",
       "      <td>DEL Indira Gandhi Intl</td>\n",
       "      <td>AMD Ahmedabad</td>\n",
       "      <td>direct</td>\n",
       "      <td>5367</td>\n",
       "      <td>6</td>\n",
       "      <td>25</td>\n",
       "      <td>8</td>\n",
       "      <td>5</td>\n",
       "      <td>95</td>\n",
       "    </tr>\n",
       "    <tr>\n",
       "      <th>1499</th>\n",
       "      <td>IndiGo</td>\n",
       "      <td>DEL Indira Gandhi Intl</td>\n",
       "      <td>AMD Ahmedabad</td>\n",
       "      <td>direct</td>\n",
       "      <td>18173</td>\n",
       "      <td>19</td>\n",
       "      <td>0</td>\n",
       "      <td>6</td>\n",
       "      <td>25</td>\n",
       "      <td>100</td>\n",
       "    </tr>\n",
       "    <tr>\n",
       "      <th>1500</th>\n",
       "      <td>Vistara, SpiceJet</td>\n",
       "      <td>DEL Indira Gandhi Intl</td>\n",
       "      <td>AMD Ahmedabad</td>\n",
       "      <td>direct</td>\n",
       "      <td>18173</td>\n",
       "      <td>18</td>\n",
       "      <td>15</td>\n",
       "      <td>0</td>\n",
       "      <td>10</td>\n",
       "      <td>115</td>\n",
       "    </tr>\n",
       "    <tr>\n",
       "      <th>1501</th>\n",
       "      <td>IndiGo</td>\n",
       "      <td>DEL Indira Gandhi Intl</td>\n",
       "      <td>AMD Ahmedabad</td>\n",
       "      <td>direct</td>\n",
       "      <td>18156</td>\n",
       "      <td>6</td>\n",
       "      <td>10</td>\n",
       "      <td>21</td>\n",
       "      <td>15</td>\n",
       "      <td>255</td>\n",
       "    </tr>\n",
       "  </tbody>\n",
       "</table>\n",
       "<p>1502 rows × 10 columns</p>\n",
       "</div>"
      ],
      "text/plain": [
       "                airline          departure_city       destination_city  \\\n",
       "0             Air India  DEL Indira Gandhi Intl  HYD Rajiv Gandhi Intl   \n",
       "1             Air India  DEL Indira Gandhi Intl  HYD Rajiv Gandhi Intl   \n",
       "2              SpiceJet  DEL Indira Gandhi Intl  HYD Rajiv Gandhi Intl   \n",
       "3             Air India  DEL Indira Gandhi Intl  HYD Rajiv Gandhi Intl   \n",
       "4               Vistara  DEL Indira Gandhi Intl  HYD Rajiv Gandhi Intl   \n",
       "...                 ...                     ...                    ...   \n",
       "1497            Vistara  DEL Indira Gandhi Intl          AMD Ahmedabad   \n",
       "1498             IndiGo  DEL Indira Gandhi Intl          AMD Ahmedabad   \n",
       "1499             IndiGo  DEL Indira Gandhi Intl          AMD Ahmedabad   \n",
       "1500  Vistara, SpiceJet  DEL Indira Gandhi Intl          AMD Ahmedabad   \n",
       "1501             IndiGo  DEL Indira Gandhi Intl          AMD Ahmedabad   \n",
       "\n",
       "        stop  ticket1  departure_hr  departure_min  reaching_hr  reaching_min  \\\n",
       "0     direct     4510             9             45           11            50   \n",
       "1     direct     4625             9             45           11            50   \n",
       "2     direct     4625            21             55            0            15   \n",
       "3     direct     4510             7             10            9            25   \n",
       "4     direct     4376            17             40           19            50   \n",
       "...      ...      ...           ...            ...          ...           ...   \n",
       "1497  direct     5700            14             45           18            55   \n",
       "1498  direct     5367             6             25            8             5   \n",
       "1499  direct    18173            19              0            6            25   \n",
       "1500  direct    18173            18             15            0            10   \n",
       "1501  direct    18156             6             10           21            15   \n",
       "\n",
       "      total_journey  \n",
       "0               125  \n",
       "1               125  \n",
       "2               140  \n",
       "3               135  \n",
       "4               130  \n",
       "...             ...  \n",
       "1497             95  \n",
       "1498             95  \n",
       "1499            100  \n",
       "1500            115  \n",
       "1501            255  \n",
       "\n",
       "[1502 rows x 10 columns]"
      ]
     },
     "execution_count": 187,
     "metadata": {},
     "output_type": "execute_result"
    }
   ],
   "source": [
    "df_flight"
   ]
  },
  {
   "cell_type": "code",
   "execution_count": 188,
   "id": "e62f052a",
   "metadata": {},
   "outputs": [
    {
     "data": {
      "image/png": "[encoded data removed]",
      "text/plain": [
       "<Figure size 1440x360 with 1 Axes>"
      ]
     },
     "metadata": {
      "needs_background": "light"
     },
     "output_type": "display_data"
    }
   ],
   "source": [
    "plt.figure(figsize = (20,5))\n",
    "plt.title('Count of flights with different Airlines')\n",
    "ax=sns.countplot(x = 'airline', data =df_flight)\n",
    "plt.xlabel('Airline')\n",
    "plt.ylabel('Count of flights')\n",
    "plt.xticks(rotation = 45)\n",
    "for p in ax.patches:\n",
    "    ax.annotate(int(p.get_height()), (p.get_x()+0.25, p.get_height()+1), va='bottom', color= 'black')"
   ]
  },
  {
   "cell_type": "code",
   "execution_count": 189,
   "id": "b11b8896",
   "metadata": {},
   "outputs": [
    {
     "data": {
      "text/plain": [
       "([0, 1, 2, 3, 4, 5, 6, 7, 8],\n",
       " [Text(0, 0, ''),\n",
       "  Text(0, 0, ''),\n",
       "  Text(0, 0, ''),\n",
       "  Text(0, 0, ''),\n",
       "  Text(0, 0, ''),\n",
       "  Text(0, 0, ''),\n",
       "  Text(0, 0, ''),\n",
       "  Text(0, 0, ''),\n",
       "  Text(0, 0, '')])"
      ]
     },
     "execution_count": 189,
     "metadata": {},
     "output_type": "execute_result"
    },
    {
     "data": {
      "image/png": "[encoded data removed]",
      "text/plain": [
       "<Figure size 1080x288 with 1 Axes>"
      ]
     },
     "metadata": {
      "needs_background": "light"
     },
     "output_type": "display_data"
    }
   ],
   "source": [
    "plt.figure(figsize = (15,4))\n",
    "plt.title('Price VS Airlines')\n",
    "plt.scatter(df_flight['airline'], df_flight['ticket1'])\n",
    "plt.xticks\n",
    "plt.xlabel('Airline')\n",
    "plt.ylabel('Price of ticket')\n",
    "plt.xticks(rotation = 90)"
   ]
  },
  {
   "cell_type": "code",
   "execution_count": 190,
   "id": "307bc713",
   "metadata": {},
   "outputs": [
    {
     "data": {
      "text/plain": [
       "Index(['airline', 'departure_city', 'destination_city', 'stop', 'ticket1',\n",
       "       'departure_hr', 'departure_min', 'reaching_hr', 'reaching_min',\n",
       "       'total_journey'],\n",
       "      dtype='object')"
      ]
     },
     "execution_count": 190,
     "metadata": {},
     "output_type": "execute_result"
    }
   ],
   "source": [
    "df_flight.columns"
   ]
  },
  {
   "cell_type": "code",
   "execution_count": 195,
   "id": "88fea485",
   "metadata": {},
   "outputs": [
    {
     "data": {
      "image/png": "[encoded data removed]",
      "text/plain": [
       "<Figure size 432x288 with 1 Axes>"
      ]
     },
     "metadata": {
      "needs_background": "light"
     },
     "output_type": "display_data"
    },
    {
     "data": {
      "image/png": "[encoded data removed]",
      "text/plain": [
       "<Figure size 432x288 with 1 Axes>"
      ]
     },
     "metadata": {
      "needs_background": "light"
     },
     "output_type": "display_data"
    },
    {
     "data": {
      "image/png": "[encoded data removed]",
      "text/plain": [
       "<Figure size 432x288 with 1 Axes>"
      ]
     },
     "metadata": {
      "needs_background": "light"
     },
     "output_type": "display_data"
    },
    {
     "data": {
      "image/png": "[encoded data removed]",
      "text/plain": [
       "<Figure size 432x288 with 1 Axes>"
      ]
     },
     "metadata": {
      "needs_background": "light"
     },
     "output_type": "display_data"
    },
    {
     "data": {
      "image/png": "[encoded data removed]",
      "text/plain": [
       "<Figure size 432x288 with 1 Axes>"
      ]
     },
     "metadata": {
      "needs_background": "light"
     },
     "output_type": "display_data"
    }
   ],
   "source": [
    "features=['departure_hr', 'departure_min', 'reaching_hr', 'reaching_min',\n",
    "       'total_journey']\n",
    "for feature in features:\n",
    "    data=df_flight.copy()\n",
    "    data[feature].hist()\n",
    "    plt.xlabel(feature)\n",
    "    plt.title('features')\n",
    "    plt.show()"
   ]
  },
  {
   "cell_type": "code",
   "execution_count": 199,
   "id": "ae9770c9",
   "metadata": {},
   "outputs": [
    {
     "data": {
      "text/plain": [
       "<AxesSubplot:xlabel='departure_hr', ylabel='ticket1'>"
      ]
     },
     "execution_count": 199,
     "metadata": {},
     "output_type": "execute_result"
    },
    {
     "data": {
      "image/png": "[encoded data removed]",
      "text/plain": [
       "<Figure size 432x288 with 1 Axes>"
      ]
     },
     "metadata": {
      "needs_background": "light"
     },
     "output_type": "display_data"
    }
   ],
   "source": [
    "import seaborn\n",
    "seaborn.scatterplot(x='departure_hr',y=\"ticket1\", data=df_flight)"
   ]
  },
  {
   "cell_type": "code",
   "execution_count": 201,
   "id": "d69c29f2",
   "metadata": {},
   "outputs": [
    {
     "data": {
      "text/plain": [
       "<AxesSubplot:xlabel='departure_hr', ylabel='ticket1'>"
      ]
     },
     "execution_count": 201,
     "metadata": {},
     "output_type": "execute_result"
    },
    {
     "data": {
      "image/png": "[encoded data removed]",
      "text/plain": [
       "<Figure size 432x288 with 1 Axes>"
      ]
     },
     "metadata": {
      "needs_background": "light"
     },
     "output_type": "display_data"
    }
   ],
   "source": [
    "seaborn.scatterplot(x='departure_hr',y=\"ticket1\", data=df_flight)"
   ]
  },
  {
   "cell_type": "code",
   "execution_count": 202,
   "id": "503965fd",
   "metadata": {},
   "outputs": [
    {
     "data": {
      "text/plain": [
       "<AxesSubplot:xlabel='reaching_hr', ylabel='ticket1'>"
      ]
     },
     "execution_count": 202,
     "metadata": {},
     "output_type": "execute_result"
    },
    {
     "data": {
      "image/png": "[encoded data removed]",
      "text/plain": [
       "<Figure size 432x288 with 1 Axes>"
      ]
     },
     "metadata": {
      "needs_background": "light"
     },
     "output_type": "display_data"
    }
   ],
   "source": [
    "seaborn.scatterplot(x='reaching_hr',y=\"ticket1\", data=df_flight)"
   ]
  },
  {
   "cell_type": "code",
   "execution_count": 203,
   "id": "8e033802",
   "metadata": {},
   "outputs": [
    {
     "data": {
      "text/plain": [
       "<AxesSubplot:xlabel='total_journey', ylabel='ticket1'>"
      ]
     },
     "execution_count": 203,
     "metadata": {},
     "output_type": "execute_result"
    },
    {
     "data": {
      "image/png": "[encoded data removed]",
      "text/plain": [
       "<Figure size 432x288 with 1 Axes>"
      ]
     },
     "metadata": {
      "needs_background": "light"
     },
     "output_type": "display_data"
    }
   ],
   "source": [
    "seaborn.scatterplot(x='total_journey',y=\"ticket1\", data=df_flight)"
   ]
  },
  {
   "cell_type": "code",
   "execution_count": 205,
   "id": "14b7b68e",
   "metadata": {},
   "outputs": [
    {
     "data": {
      "text/plain": [
       "Index(['airline', 'departure_city', 'destination_city', 'stop', 'ticket1',\n",
       "       'departure_hr', 'departure_min', 'reaching_hr', 'reaching_min',\n",
       "       'total_journey'],\n",
       "      dtype='object')"
      ]
     },
     "execution_count": 205,
     "metadata": {},
     "output_type": "execute_result"
    }
   ],
   "source": [
    "df_flight.columns"
   ]
  },
  {
   "cell_type": "code",
   "execution_count": 208,
   "id": "4ae6250b",
   "metadata": {},
   "outputs": [],
   "source": [
    "le = LabelEncoder()\n",
    "d1=le.fit_transform(df_flight['airline'])\n",
    "d2=le.fit_transform(df_flight['departure_city'])\n",
    "d3=le.fit_transform(df_flight['destination_city'])\n",
    "d4=le.fit_transform(df_flight['stop'])"
   ]
  },
  {
   "cell_type": "code",
   "execution_count": 209,
   "id": "7b32878e",
   "metadata": {},
   "outputs": [],
   "source": [
    "df_flight['airline']=d1\n",
    "df_flight['departure_city']=d2\n",
    "df_flight['destination_city']=d3\n",
    "df_flight['stop']=d4\n"
   ]
  },
  {
   "cell_type": "code",
   "execution_count": 210,
   "id": "223be05c",
   "metadata": {},
   "outputs": [
    {
     "data": {
      "text/html": [
       "<div>\n",
       "<style scoped>\n",
       "    .dataframe tbody tr th:only-of-type {\n",
       "        vertical-align: middle;\n",
       "    }\n",
       "\n",
       "    .dataframe tbody tr th {\n",
       "        vertical-align: top;\n",
       "    }\n",
       "\n",
       "    .dataframe thead th {\n",
       "        text-align: right;\n",
       "    }\n",
       "</style>\n",
       "<table border=\"1\" class=\"dataframe\">\n",
       "  <thead>\n",
       "    <tr style=\"text-align: right;\">\n",
       "      <th></th>\n",
       "      <th>airline</th>\n",
       "      <th>departure_city</th>\n",
       "      <th>destination_city</th>\n",
       "      <th>stop</th>\n",
       "      <th>ticket1</th>\n",
       "      <th>departure_hr</th>\n",
       "      <th>departure_min</th>\n",
       "      <th>reaching_hr</th>\n",
       "      <th>reaching_min</th>\n",
       "      <th>total_journey</th>\n",
       "    </tr>\n",
       "  </thead>\n",
       "  <tbody>\n",
       "    <tr>\n",
       "      <th>0</th>\n",
       "      <td>0</td>\n",
       "      <td>1</td>\n",
       "      <td>5</td>\n",
       "      <td>1</td>\n",
       "      <td>4510</td>\n",
       "      <td>9</td>\n",
       "      <td>45</td>\n",
       "      <td>11</td>\n",
       "      <td>50</td>\n",
       "      <td>125</td>\n",
       "    </tr>\n",
       "    <tr>\n",
       "      <th>1</th>\n",
       "      <td>0</td>\n",
       "      <td>1</td>\n",
       "      <td>5</td>\n",
       "      <td>1</td>\n",
       "      <td>4625</td>\n",
       "      <td>9</td>\n",
       "      <td>45</td>\n",
       "      <td>11</td>\n",
       "      <td>50</td>\n",
       "      <td>125</td>\n",
       "    </tr>\n",
       "    <tr>\n",
       "      <th>2</th>\n",
       "      <td>5</td>\n",
       "      <td>1</td>\n",
       "      <td>5</td>\n",
       "      <td>1</td>\n",
       "      <td>4625</td>\n",
       "      <td>21</td>\n",
       "      <td>55</td>\n",
       "      <td>0</td>\n",
       "      <td>15</td>\n",
       "      <td>140</td>\n",
       "    </tr>\n",
       "    <tr>\n",
       "      <th>3</th>\n",
       "      <td>0</td>\n",
       "      <td>1</td>\n",
       "      <td>5</td>\n",
       "      <td>1</td>\n",
       "      <td>4510</td>\n",
       "      <td>7</td>\n",
       "      <td>10</td>\n",
       "      <td>9</td>\n",
       "      <td>25</td>\n",
       "      <td>135</td>\n",
       "    </tr>\n",
       "    <tr>\n",
       "      <th>4</th>\n",
       "      <td>6</td>\n",
       "      <td>1</td>\n",
       "      <td>5</td>\n",
       "      <td>1</td>\n",
       "      <td>4376</td>\n",
       "      <td>17</td>\n",
       "      <td>40</td>\n",
       "      <td>19</td>\n",
       "      <td>50</td>\n",
       "      <td>130</td>\n",
       "    </tr>\n",
       "  </tbody>\n",
       "</table>\n",
       "</div>"
      ],
      "text/plain": [
       "   airline  departure_city  destination_city  stop  ticket1  departure_hr  \\\n",
       "0        0               1                 5     1     4510             9   \n",
       "1        0               1                 5     1     4625             9   \n",
       "2        5               1                 5     1     4625            21   \n",
       "3        0               1                 5     1     4510             7   \n",
       "4        6               1                 5     1     4376            17   \n",
       "\n",
       "   departure_min  reaching_hr  reaching_min  total_journey  \n",
       "0             45           11            50            125  \n",
       "1             45           11            50            125  \n",
       "2             55            0            15            140  \n",
       "3             10            9            25            135  \n",
       "4             40           19            50            130  "
      ]
     },
     "execution_count": 210,
     "metadata": {},
     "output_type": "execute_result"
    }
   ],
   "source": [
    "df_flight.head()"
   ]
  },
  {
   "cell_type": "code",
   "execution_count": 211,
   "id": "b0b94f30",
   "metadata": {},
   "outputs": [
    {
     "data": {
      "text/html": [
       "<div>\n",
       "<style scoped>\n",
       "    .dataframe tbody tr th:only-of-type {\n",
       "        vertical-align: middle;\n",
       "    }\n",
       "\n",
       "    .dataframe tbody tr th {\n",
       "        vertical-align: top;\n",
       "    }\n",
       "\n",
       "    .dataframe thead th {\n",
       "        text-align: right;\n",
       "    }\n",
       "</style>\n",
       "<table border=\"1\" class=\"dataframe\">\n",
       "  <thead>\n",
       "    <tr style=\"text-align: right;\">\n",
       "      <th></th>\n",
       "      <th>airline</th>\n",
       "      <th>departure_city</th>\n",
       "      <th>destination_city</th>\n",
       "      <th>stop</th>\n",
       "      <th>ticket1</th>\n",
       "      <th>departure_hr</th>\n",
       "      <th>departure_min</th>\n",
       "      <th>reaching_hr</th>\n",
       "      <th>reaching_min</th>\n",
       "      <th>total_journey</th>\n",
       "    </tr>\n",
       "  </thead>\n",
       "  <tbody>\n",
       "    <tr>\n",
       "      <th>count</th>\n",
       "      <td>1502.000000</td>\n",
       "      <td>1502.000000</td>\n",
       "      <td>1502.000000</td>\n",
       "      <td>1502.000000</td>\n",
       "      <td>1502.000000</td>\n",
       "      <td>1502.000000</td>\n",
       "      <td>1502.000000</td>\n",
       "      <td>1502.000000</td>\n",
       "      <td>1502.000000</td>\n",
       "      <td>1502.000000</td>\n",
       "    </tr>\n",
       "    <tr>\n",
       "      <th>mean</th>\n",
       "      <td>3.694407</td>\n",
       "      <td>0.996671</td>\n",
       "      <td>3.399467</td>\n",
       "      <td>0.875499</td>\n",
       "      <td>5168.707723</td>\n",
       "      <td>12.675100</td>\n",
       "      <td>26.198402</td>\n",
       "      <td>13.839547</td>\n",
       "      <td>29.523968</td>\n",
       "      <td>177.896138</td>\n",
       "    </tr>\n",
       "    <tr>\n",
       "      <th>std</th>\n",
       "      <td>1.889120</td>\n",
       "      <td>0.057620</td>\n",
       "      <td>2.416400</td>\n",
       "      <td>0.330262</td>\n",
       "      <td>1273.955996</td>\n",
       "      <td>5.779737</td>\n",
       "      <td>17.728106</td>\n",
       "      <td>6.455419</td>\n",
       "      <td>16.660473</td>\n",
       "      <td>81.949521</td>\n",
       "    </tr>\n",
       "    <tr>\n",
       "      <th>min</th>\n",
       "      <td>0.000000</td>\n",
       "      <td>0.000000</td>\n",
       "      <td>0.000000</td>\n",
       "      <td>0.000000</td>\n",
       "      <td>3498.000000</td>\n",
       "      <td>0.000000</td>\n",
       "      <td>0.000000</td>\n",
       "      <td>0.000000</td>\n",
       "      <td>0.000000</td>\n",
       "      <td>85.000000</td>\n",
       "    </tr>\n",
       "    <tr>\n",
       "      <th>25%</th>\n",
       "      <td>3.000000</td>\n",
       "      <td>1.000000</td>\n",
       "      <td>1.000000</td>\n",
       "      <td>1.000000</td>\n",
       "      <td>4799.000000</td>\n",
       "      <td>7.000000</td>\n",
       "      <td>10.000000</td>\n",
       "      <td>9.000000</td>\n",
       "      <td>15.000000</td>\n",
       "      <td>135.000000</td>\n",
       "    </tr>\n",
       "    <tr>\n",
       "      <th>50%</th>\n",
       "      <td>4.000000</td>\n",
       "      <td>1.000000</td>\n",
       "      <td>4.000000</td>\n",
       "      <td>1.000000</td>\n",
       "      <td>4976.000000</td>\n",
       "      <td>12.000000</td>\n",
       "      <td>30.000000</td>\n",
       "      <td>13.000000</td>\n",
       "      <td>30.000000</td>\n",
       "      <td>160.000000</td>\n",
       "    </tr>\n",
       "    <tr>\n",
       "      <th>75%</th>\n",
       "      <td>5.000000</td>\n",
       "      <td>1.000000</td>\n",
       "      <td>6.000000</td>\n",
       "      <td>1.000000</td>\n",
       "      <td>5175.000000</td>\n",
       "      <td>18.000000</td>\n",
       "      <td>40.000000</td>\n",
       "      <td>20.000000</td>\n",
       "      <td>45.000000</td>\n",
       "      <td>170.000000</td>\n",
       "    </tr>\n",
       "    <tr>\n",
       "      <th>max</th>\n",
       "      <td>8.000000</td>\n",
       "      <td>1.000000</td>\n",
       "      <td>7.000000</td>\n",
       "      <td>1.000000</td>\n",
       "      <td>18173.000000</td>\n",
       "      <td>23.000000</td>\n",
       "      <td>55.000000</td>\n",
       "      <td>23.000000</td>\n",
       "      <td>55.000000</td>\n",
       "      <td>495.000000</td>\n",
       "    </tr>\n",
       "  </tbody>\n",
       "</table>\n",
       "</div>"
      ],
      "text/plain": [
       "           airline  departure_city  destination_city         stop  \\\n",
       "count  1502.000000     1502.000000       1502.000000  1502.000000   \n",
       "mean      3.694407        0.996671          3.399467     0.875499   \n",
       "std       1.889120        0.057620          2.416400     0.330262   \n",
       "min       0.000000        0.000000          0.000000     0.000000   \n",
       "25%       3.000000        1.000000          1.000000     1.000000   \n",
       "50%       4.000000        1.000000          4.000000     1.000000   \n",
       "75%       5.000000        1.000000          6.000000     1.000000   \n",
       "max       8.000000        1.000000          7.000000     1.000000   \n",
       "\n",
       "            ticket1  departure_hr  departure_min  reaching_hr  reaching_min  \\\n",
       "count   1502.000000   1502.000000    1502.000000  1502.000000   1502.000000   \n",
       "mean    5168.707723     12.675100      26.198402    13.839547     29.523968   \n",
       "std     1273.955996      5.779737      17.728106     6.455419     16.660473   \n",
       "min     3498.000000      0.000000       0.000000     0.000000      0.000000   \n",
       "25%     4799.000000      7.000000      10.000000     9.000000     15.000000   \n",
       "50%     4976.000000     12.000000      30.000000    13.000000     30.000000   \n",
       "75%     5175.000000     18.000000      40.000000    20.000000     45.000000   \n",
       "max    18173.000000     23.000000      55.000000    23.000000     55.000000   \n",
       "\n",
       "       total_journey  \n",
       "count    1502.000000  \n",
       "mean      177.896138  \n",
       "std        81.949521  \n",
       "min        85.000000  \n",
       "25%       135.000000  \n",
       "50%       160.000000  \n",
       "75%       170.000000  \n",
       "max       495.000000  "
      ]
     },
     "execution_count": 211,
     "metadata": {},
     "output_type": "execute_result"
    }
   ],
   "source": [
    "df_flight.describe()"
   ]
  },
  {
   "cell_type": "code",
   "execution_count": 212,
   "id": "c354dfa7",
   "metadata": {},
   "outputs": [
    {
     "data": {
      "text/html": [
       "<div>\n",
       "<style scoped>\n",
       "    .dataframe tbody tr th:only-of-type {\n",
       "        vertical-align: middle;\n",
       "    }\n",
       "\n",
       "    .dataframe tbody tr th {\n",
       "        vertical-align: top;\n",
       "    }\n",
       "\n",
       "    .dataframe thead th {\n",
       "        text-align: right;\n",
       "    }\n",
       "</style>\n",
       "<table border=\"1\" class=\"dataframe\">\n",
       "  <thead>\n",
       "    <tr style=\"text-align: right;\">\n",
       "      <th></th>\n",
       "      <th>airline</th>\n",
       "      <th>departure_city</th>\n",
       "      <th>destination_city</th>\n",
       "      <th>stop</th>\n",
       "      <th>ticket1</th>\n",
       "      <th>departure_hr</th>\n",
       "      <th>departure_min</th>\n",
       "      <th>reaching_hr</th>\n",
       "      <th>reaching_min</th>\n",
       "      <th>total_journey</th>\n",
       "    </tr>\n",
       "  </thead>\n",
       "  <tbody>\n",
       "    <tr>\n",
       "      <th>airline</th>\n",
       "      <td>1.000000</td>\n",
       "      <td>-0.009352</td>\n",
       "      <td>-0.040959</td>\n",
       "      <td>0.068185</td>\n",
       "      <td>0.030173</td>\n",
       "      <td>-0.027527</td>\n",
       "      <td>-0.003281</td>\n",
       "      <td>-0.038331</td>\n",
       "      <td>-0.016479</td>\n",
       "      <td>-0.052698</td>\n",
       "    </tr>\n",
       "    <tr>\n",
       "      <th>departure_city</th>\n",
       "      <td>-0.009352</td>\n",
       "      <td>1.000000</td>\n",
       "      <td>0.009557</td>\n",
       "      <td>-0.021794</td>\n",
       "      <td>0.001729</td>\n",
       "      <td>-0.033257</td>\n",
       "      <td>-0.009136</td>\n",
       "      <td>0.005728</td>\n",
       "      <td>-0.015532</td>\n",
       "      <td>0.037316</td>\n",
       "    </tr>\n",
       "    <tr>\n",
       "      <th>destination_city</th>\n",
       "      <td>-0.040959</td>\n",
       "      <td>0.009557</td>\n",
       "      <td>1.000000</td>\n",
       "      <td>-0.396789</td>\n",
       "      <td>-0.043366</td>\n",
       "      <td>0.072171</td>\n",
       "      <td>0.129875</td>\n",
       "      <td>0.151161</td>\n",
       "      <td>0.026240</td>\n",
       "      <td>0.583827</td>\n",
       "    </tr>\n",
       "    <tr>\n",
       "      <th>stop</th>\n",
       "      <td>0.068185</td>\n",
       "      <td>-0.021794</td>\n",
       "      <td>-0.396789</td>\n",
       "      <td>1.000000</td>\n",
       "      <td>0.014567</td>\n",
       "      <td>-0.089265</td>\n",
       "      <td>-0.008067</td>\n",
       "      <td>-0.004689</td>\n",
       "      <td>-0.024703</td>\n",
       "      <td>-0.665819</td>\n",
       "    </tr>\n",
       "    <tr>\n",
       "      <th>ticket1</th>\n",
       "      <td>0.030173</td>\n",
       "      <td>0.001729</td>\n",
       "      <td>-0.043366</td>\n",
       "      <td>0.014567</td>\n",
       "      <td>1.000000</td>\n",
       "      <td>-0.020855</td>\n",
       "      <td>0.004088</td>\n",
       "      <td>0.017045</td>\n",
       "      <td>-0.002594</td>\n",
       "      <td>-0.055587</td>\n",
       "    </tr>\n",
       "    <tr>\n",
       "      <th>departure_hr</th>\n",
       "      <td>-0.027527</td>\n",
       "      <td>-0.033257</td>\n",
       "      <td>0.072171</td>\n",
       "      <td>-0.089265</td>\n",
       "      <td>-0.020855</td>\n",
       "      <td>1.000000</td>\n",
       "      <td>0.014693</td>\n",
       "      <td>0.111506</td>\n",
       "      <td>-0.012816</td>\n",
       "      <td>0.019767</td>\n",
       "    </tr>\n",
       "    <tr>\n",
       "      <th>departure_min</th>\n",
       "      <td>-0.003281</td>\n",
       "      <td>-0.009136</td>\n",
       "      <td>0.129875</td>\n",
       "      <td>-0.008067</td>\n",
       "      <td>0.004088</td>\n",
       "      <td>0.014693</td>\n",
       "      <td>1.000000</td>\n",
       "      <td>0.056898</td>\n",
       "      <td>0.051444</td>\n",
       "      <td>0.037700</td>\n",
       "    </tr>\n",
       "    <tr>\n",
       "      <th>reaching_hr</th>\n",
       "      <td>-0.038331</td>\n",
       "      <td>0.005728</td>\n",
       "      <td>0.151161</td>\n",
       "      <td>-0.004689</td>\n",
       "      <td>0.017045</td>\n",
       "      <td>0.111506</td>\n",
       "      <td>0.056898</td>\n",
       "      <td>1.000000</td>\n",
       "      <td>-0.056957</td>\n",
       "      <td>0.075313</td>\n",
       "    </tr>\n",
       "    <tr>\n",
       "      <th>reaching_min</th>\n",
       "      <td>-0.016479</td>\n",
       "      <td>-0.015532</td>\n",
       "      <td>0.026240</td>\n",
       "      <td>-0.024703</td>\n",
       "      <td>-0.002594</td>\n",
       "      <td>-0.012816</td>\n",
       "      <td>0.051444</td>\n",
       "      <td>-0.056957</td>\n",
       "      <td>1.000000</td>\n",
       "      <td>-0.034318</td>\n",
       "    </tr>\n",
       "    <tr>\n",
       "      <th>total_journey</th>\n",
       "      <td>-0.052698</td>\n",
       "      <td>0.037316</td>\n",
       "      <td>0.583827</td>\n",
       "      <td>-0.665819</td>\n",
       "      <td>-0.055587</td>\n",
       "      <td>0.019767</td>\n",
       "      <td>0.037700</td>\n",
       "      <td>0.075313</td>\n",
       "      <td>-0.034318</td>\n",
       "      <td>1.000000</td>\n",
       "    </tr>\n",
       "  </tbody>\n",
       "</table>\n",
       "</div>"
      ],
      "text/plain": [
       "                   airline  departure_city  destination_city      stop  \\\n",
       "airline           1.000000       -0.009352         -0.040959  0.068185   \n",
       "departure_city   -0.009352        1.000000          0.009557 -0.021794   \n",
       "destination_city -0.040959        0.009557          1.000000 -0.396789   \n",
       "stop              0.068185       -0.021794         -0.396789  1.000000   \n",
       "ticket1           0.030173        0.001729         -0.043366  0.014567   \n",
       "departure_hr     -0.027527       -0.033257          0.072171 -0.089265   \n",
       "departure_min    -0.003281       -0.009136          0.129875 -0.008067   \n",
       "reaching_hr      -0.038331        0.005728          0.151161 -0.004689   \n",
       "reaching_min     -0.016479       -0.015532          0.026240 -0.024703   \n",
       "total_journey    -0.052698        0.037316          0.583827 -0.665819   \n",
       "\n",
       "                   ticket1  departure_hr  departure_min  reaching_hr  \\\n",
       "airline           0.030173     -0.027527      -0.003281    -0.038331   \n",
       "departure_city    0.001729     -0.033257      -0.009136     0.005728   \n",
       "destination_city -0.043366      0.072171       0.129875     0.151161   \n",
       "stop              0.014567     -0.089265      -0.008067    -0.004689   \n",
       "ticket1           1.000000     -0.020855       0.004088     0.017045   \n",
       "departure_hr     -0.020855      1.000000       0.014693     0.111506   \n",
       "departure_min     0.004088      0.014693       1.000000     0.056898   \n",
       "reaching_hr       0.017045      0.111506       0.056898     1.000000   \n",
       "reaching_min     -0.002594     -0.012816       0.051444    -0.056957   \n",
       "total_journey    -0.055587      0.019767       0.037700     0.075313   \n",
       "\n",
       "                  reaching_min  total_journey  \n",
       "airline              -0.016479      -0.052698  \n",
       "departure_city       -0.015532       0.037316  \n",
       "destination_city      0.026240       0.583827  \n",
       "stop                 -0.024703      -0.665819  \n",
       "ticket1              -0.002594      -0.055587  \n",
       "departure_hr         -0.012816       0.019767  \n",
       "departure_min         0.051444       0.037700  \n",
       "reaching_hr          -0.056957       0.075313  \n",
       "reaching_min          1.000000      -0.034318  \n",
       "total_journey        -0.034318       1.000000  "
      ]
     },
     "execution_count": 212,
     "metadata": {},
     "output_type": "execute_result"
    }
   ],
   "source": [
    "df_flight.corr()"
   ]
  },
  {
   "cell_type": "code",
   "execution_count": 213,
   "id": "36901507",
   "metadata": {},
   "outputs": [
    {
     "data": {
      "image/png": "[encoded data removed]",
      "text/plain": [
       "<Figure size 1080x1080 with 2 Axes>"
      ]
     },
     "metadata": {
      "needs_background": "light"
     },
     "output_type": "display_data"
    }
   ],
   "source": [
    "plt.figure(figsize = (15,15))\n",
    "sns.heatmap(df_flight.corr(), annot = True, cmap = \"RdYlGn\")\n",
    "plt.show()"
   ]
  },
  {
   "cell_type": "code",
   "execution_count": 217,
   "id": "88a0fcda",
   "metadata": {},
   "outputs": [],
   "source": [
    "x=df_flight.drop(columns='ticket1')\n",
    "y=df_flight['ticket1']"
   ]
  },
  {
   "cell_type": "code",
   "execution_count": 218,
   "id": "3926503c",
   "metadata": {},
   "outputs": [
    {
     "data": {
      "text/plain": [
       "array([[-1.95627434,  0.05779285,  0.66258316, ..., -0.44001681,\n",
       "         1.22942794, -0.64568719],\n",
       "       [-1.95627434,  0.05779285,  0.66258316, ..., -0.44001681,\n",
       "         1.22942794, -0.64568719],\n",
       "       [ 0.6913415 ,  0.05779285,  0.66258316, ..., -2.14457898,\n",
       "        -0.87205237, -0.46258672],\n",
       "       ...,\n",
       "       [ 0.16181833,  0.05779285, -1.40730018, ..., -1.21481779,\n",
       "        -0.27162942, -0.95085464],\n",
       "       [ 2.279911  ,  0.05779285, -1.40730018, ..., -2.14457898,\n",
       "        -1.17226384, -0.76775417],\n",
       "       [ 0.16181833,  0.05779285, -1.40730018, ...,  1.10958517,\n",
       "        -0.87205237,  0.94118355]])"
      ]
     },
     "execution_count": 218,
     "metadata": {},
     "output_type": "execute_result"
    }
   ],
   "source": [
    "from sklearn.preprocessing import StandardScaler\n",
    "scaler=StandardScaler()\n",
    "x_scaled=scaler.fit_transform(x)\n",
    "x_scaled"
   ]
  },
  {
   "cell_type": "code",
   "execution_count": 219,
   "id": "724660f4",
   "metadata": {},
   "outputs": [],
   "source": [
    "from sklearn.linear_model import LinearRegression\n",
    "from statsmodels.stats.outliers_influence import variance_inflation_factor\n",
    "from sklearn.model_selection import train_test_split"
   ]
  },
  {
   "cell_type": "code",
   "execution_count": 220,
   "id": "fc3f5879",
   "metadata": {},
   "outputs": [
    {
     "data": {
      "text/html": [
       "<div>\n",
       "<style scoped>\n",
       "    .dataframe tbody tr th:only-of-type {\n",
       "        vertical-align: middle;\n",
       "    }\n",
       "\n",
       "    .dataframe tbody tr th {\n",
       "        vertical-align: top;\n",
       "    }\n",
       "\n",
       "    .dataframe thead th {\n",
       "        text-align: right;\n",
       "    }\n",
       "</style>\n",
       "<table border=\"1\" class=\"dataframe\">\n",
       "  <thead>\n",
       "    <tr style=\"text-align: right;\">\n",
       "      <th></th>\n",
       "      <th>vif</th>\n",
       "      <th>feature</th>\n",
       "    </tr>\n",
       "  </thead>\n",
       "  <tbody>\n",
       "    <tr>\n",
       "      <th>0</th>\n",
       "      <td>1.006905</td>\n",
       "      <td>airline</td>\n",
       "    </tr>\n",
       "    <tr>\n",
       "      <th>1</th>\n",
       "      <td>1.003105</td>\n",
       "      <td>departure_city</td>\n",
       "    </tr>\n",
       "    <tr>\n",
       "      <th>2</th>\n",
       "      <td>1.581341</td>\n",
       "      <td>destination_city</td>\n",
       "    </tr>\n",
       "    <tr>\n",
       "      <th>3</th>\n",
       "      <td>1.836844</td>\n",
       "      <td>stop</td>\n",
       "    </tr>\n",
       "    <tr>\n",
       "      <th>4</th>\n",
       "      <td>1.030430</td>\n",
       "      <td>departure_hr</td>\n",
       "    </tr>\n",
       "    <tr>\n",
       "      <th>5</th>\n",
       "      <td>1.023986</td>\n",
       "      <td>departure_min</td>\n",
       "    </tr>\n",
       "    <tr>\n",
       "      <th>6</th>\n",
       "      <td>1.046331</td>\n",
       "      <td>reaching_hr</td>\n",
       "    </tr>\n",
       "    <tr>\n",
       "      <th>7</th>\n",
       "      <td>1.015259</td>\n",
       "      <td>reaching_min</td>\n",
       "    </tr>\n",
       "    <tr>\n",
       "      <th>8</th>\n",
       "      <td>2.334919</td>\n",
       "      <td>total_journey</td>\n",
       "    </tr>\n",
       "  </tbody>\n",
       "</table>\n",
       "</div>"
      ],
      "text/plain": [
       "        vif           feature\n",
       "0  1.006905           airline\n",
       "1  1.003105    departure_city\n",
       "2  1.581341  destination_city\n",
       "3  1.836844              stop\n",
       "4  1.030430      departure_hr\n",
       "5  1.023986     departure_min\n",
       "6  1.046331       reaching_hr\n",
       "7  1.015259      reaching_min\n",
       "8  2.334919     total_journey"
      ]
     },
     "execution_count": 220,
     "metadata": {},
     "output_type": "execute_result"
    }
   ],
   "source": [
    "vif=pd.DataFrame()\n",
    "vif[\"vif\"]=[variance_inflation_factor(x_scaled,i)\n",
    "           for i in range(x_scaled.shape[1])]\n",
    "vif[\"feature\"]=x.columns\n",
    "vif"
   ]
  },
  {
   "cell_type": "code",
   "execution_count": 221,
   "id": "8d84dc67",
   "metadata": {},
   "outputs": [],
   "source": [
    "x_train,x_test,y_train,y_test=train_test_split(x_scaled,y,test_size=0.30,random_state=355)"
   ]
  },
  {
   "cell_type": "code",
   "execution_count": 230,
   "id": "35ae134d",
   "metadata": {},
   "outputs": [],
   "source": [
    "import warnings\n",
    "warnings.simplefilter(\"ignore\")\n",
    "from sklearn.model_selection import train_test_split \n",
    "from sklearn.metrics import r2_score,mean_squared_error, mean_absolute_error\n",
    "from sklearn.linear_model import LinearRegression\n",
    "from sklearn.svm import SVR\n",
    "from sklearn.ensemble import RandomForestRegressor,GradientBoostingRegressor"
   ]
  },
  {
   "cell_type": "code",
   "execution_count": 234,
   "id": "fdcc5df7",
   "metadata": {},
   "outputs": [
    {
     "data": {
      "text/plain": [
       "RandomForestRegressor()"
      ]
     },
     "execution_count": 234,
     "metadata": {},
     "output_type": "execute_result"
    }
   ],
   "source": [
    "from sklearn.ensemble import RandomForestRegressor\n",
    "reg_rf = RandomForestRegressor()\n",
    "reg_rf.fit(x_train, y_train)"
   ]
  },
  {
   "cell_type": "code",
   "execution_count": 235,
   "id": "2c0d2e8d",
   "metadata": {},
   "outputs": [],
   "source": [
    "y_pred = reg_rf.predict(x_test)"
   ]
  },
  {
   "cell_type": "code",
   "execution_count": 236,
   "id": "2d418922",
   "metadata": {},
   "outputs": [
    {
     "data": {
      "text/plain": [
       "0.40480108909147783"
      ]
     },
     "execution_count": 236,
     "metadata": {},
     "output_type": "execute_result"
    }
   ],
   "source": [
    "reg_rf.score(x_train, y_train)"
   ]
  },
  {
   "cell_type": "code",
   "execution_count": 237,
   "id": "40be1d56",
   "metadata": {},
   "outputs": [
    {
     "data": {
      "text/plain": [
       "-0.05226492417003925"
      ]
     },
     "execution_count": 237,
     "metadata": {},
     "output_type": "execute_result"
    }
   ],
   "source": [
    "reg_rf.score(x_test, y_test)"
   ]
  },
  {
   "cell_type": "code",
   "execution_count": 238,
   "id": "79bc03d0",
   "metadata": {},
   "outputs": [
    {
     "data": {
      "image/png": "[encoded data removed]",
      "text/plain": [
       "<Figure size 432x288 with 1 Axes>"
      ]
     },
     "metadata": {
      "needs_background": "light"
     },
     "output_type": "display_data"
    }
   ],
   "source": [
    "sns.distplot(y_test-y_pred)\n",
    "plt.show()"
   ]
  },
  {
   "cell_type": "code",
   "execution_count": 239,
   "id": "7d36b79e",
   "metadata": {},
   "outputs": [
    {
     "data": {
      "image/png": "[encoded data removed]",
      "text/plain": [
       "<Figure size 432x288 with 1 Axes>"
      ]
     },
     "metadata": {
      "needs_background": "light"
     },
     "output_type": "display_data"
    }
   ],
   "source": [
    "plt.scatter(y_test, y_pred, alpha = 0.5)\n",
    "plt.xlabel(\"y_test\")\n",
    "plt.ylabel(\"y_pred\")\n",
    "plt.show()"
   ]
  },
  {
   "cell_type": "code",
   "execution_count": 240,
   "id": "3641f0cf",
   "metadata": {},
   "outputs": [],
   "source": [
    "from sklearn import metrics"
   ]
  },
  {
   "cell_type": "code",
   "execution_count": 241,
   "id": "91e25ba0",
   "metadata": {},
   "outputs": [
    {
     "name": "stdout",
     "output_type": "stream",
     "text": [
      "MAE: 641.5618532330568\n",
      "MSE: 2429609.123548533\n",
      "RMSE: 1558.72034808959\n"
     ]
    }
   ],
   "source": [
    "print('MAE:', metrics.mean_absolute_error(y_test, y_pred))\n",
    "print('MSE:', metrics.mean_squared_error(y_test, y_pred))\n",
    "print('RMSE:', np.sqrt(metrics.mean_squared_error(y_test, y_pred)))"
   ]
  },
  {
   "cell_type": "code",
   "execution_count": 243,
   "id": "cc6dc6a0",
   "metadata": {},
   "outputs": [],
   "source": [
    "from sklearn.model_selection import RandomizedSearchCV"
   ]
  },
  {
   "cell_type": "code",
   "execution_count": 244,
   "id": "8cdfbf67",
   "metadata": {},
   "outputs": [],
   "source": [
    "#Randomized Search CV\n",
    "\n",
    "# Number of trees in random forest\n",
    "n_estimators = [int(x) for x in np.linspace(start = 100, stop = 1200, num = 12)]\n",
    "# Number of features to consider at every split\n",
    "max_features = ['auto', 'sqrt']\n",
    "# Maximum number of levels in tree\n",
    "max_depth = [int(x) for x in np.linspace(5, 30, num = 6)]\n",
    "# Minimum number of samples required to split a node\n",
    "min_samples_split = [2, 5, 10, 15, 100]\n",
    "# Minimum number of samples required at each leaf node\n",
    "min_samples_leaf = [1, 2, 5, 10]"
   ]
  },
  {
   "cell_type": "code",
   "execution_count": 245,
   "id": "dc8cb7d3",
   "metadata": {},
   "outputs": [],
   "source": [
    "random_grid = {'n_estimators': n_estimators,\n",
    "               'max_features': max_features,\n",
    "               'max_depth': max_depth,\n",
    "               'min_samples_split': min_samples_split,\n",
    "               'min_samples_leaf': min_samples_leaf}"
   ]
  },
  {
   "cell_type": "code",
   "execution_count": 246,
   "id": "271ac936",
   "metadata": {},
   "outputs": [],
   "source": [
    "# Random search of parameters, using 5 fold cross validation, \n",
    "# search across 100 different combinations\n",
    "rf_random = RandomizedSearchCV(estimator = reg_rf, param_distributions = random_grid,scoring='neg_mean_squared_error', n_iter = 10, cv = 5, verbose=2, random_state=42, n_jobs = 1)"
   ]
  },
  {
   "cell_type": "code",
   "execution_count": 247,
   "id": "d09e4743",
   "metadata": {},
   "outputs": [
    {
     "name": "stdout",
     "output_type": "stream",
     "text": [
      "Fitting 5 folds for each of 10 candidates, totalling 50 fits\n",
      "[CV] END max_depth=10, max_features=sqrt, min_samples_leaf=5, min_samples_split=5, n_estimators=900; total time=   1.6s\n",
      "[CV] END max_depth=10, max_features=sqrt, min_samples_leaf=5, min_samples_split=5, n_estimators=900; total time=   1.6s\n",
      "[CV] END max_depth=10, max_features=sqrt, min_samples_leaf=5, min_samples_split=5, n_estimators=900; total time=   1.7s\n",
      "[CV] END max_depth=10, max_features=sqrt, min_samples_leaf=5, min_samples_split=5, n_estimators=900; total time=   1.5s\n",
      "[CV] END max_depth=10, max_features=sqrt, min_samples_leaf=5, min_samples_split=5, n_estimators=900; total time=   1.5s\n",
      "[CV] END max_depth=15, max_features=sqrt, min_samples_leaf=2, min_samples_split=10, n_estimators=1100; total time=   2.2s\n",
      "[CV] END max_depth=15, max_features=sqrt, min_samples_leaf=2, min_samples_split=10, n_estimators=1100; total time=   2.6s\n",
      "[CV] END max_depth=15, max_features=sqrt, min_samples_leaf=2, min_samples_split=10, n_estimators=1100; total time=   2.8s\n",
      "[CV] END max_depth=15, max_features=sqrt, min_samples_leaf=2, min_samples_split=10, n_estimators=1100; total time=   2.4s\n",
      "[CV] END max_depth=15, max_features=sqrt, min_samples_leaf=2, min_samples_split=10, n_estimators=1100; total time=   2.1s\n",
      "[CV] END max_depth=15, max_features=auto, min_samples_leaf=5, min_samples_split=100, n_estimators=300; total time=   0.5s\n",
      "[CV] END max_depth=15, max_features=auto, min_samples_leaf=5, min_samples_split=100, n_estimators=300; total time=   0.5s\n",
      "[CV] END max_depth=15, max_features=auto, min_samples_leaf=5, min_samples_split=100, n_estimators=300; total time=   0.5s\n",
      "[CV] END max_depth=15, max_features=auto, min_samples_leaf=5, min_samples_split=100, n_estimators=300; total time=   0.5s\n",
      "[CV] END max_depth=15, max_features=auto, min_samples_leaf=5, min_samples_split=100, n_estimators=300; total time=   0.5s\n",
      "[CV] END max_depth=15, max_features=auto, min_samples_leaf=5, min_samples_split=5, n_estimators=400; total time=   0.9s\n",
      "[CV] END max_depth=15, max_features=auto, min_samples_leaf=5, min_samples_split=5, n_estimators=400; total time=   0.9s\n",
      "[CV] END max_depth=15, max_features=auto, min_samples_leaf=5, min_samples_split=5, n_estimators=400; total time=   0.9s\n",
      "[CV] END max_depth=15, max_features=auto, min_samples_leaf=5, min_samples_split=5, n_estimators=400; total time=   0.9s\n",
      "[CV] END max_depth=15, max_features=auto, min_samples_leaf=5, min_samples_split=5, n_estimators=400; total time=   0.9s\n",
      "[CV] END max_depth=20, max_features=auto, min_samples_leaf=10, min_samples_split=5, n_estimators=700; total time=   1.7s\n",
      "[CV] END max_depth=20, max_features=auto, min_samples_leaf=10, min_samples_split=5, n_estimators=700; total time=   1.6s\n",
      "[CV] END max_depth=20, max_features=auto, min_samples_leaf=10, min_samples_split=5, n_estimators=700; total time=   2.0s\n",
      "[CV] END max_depth=20, max_features=auto, min_samples_leaf=10, min_samples_split=5, n_estimators=700; total time=   2.7s\n",
      "[CV] END max_depth=20, max_features=auto, min_samples_leaf=10, min_samples_split=5, n_estimators=700; total time=   2.4s\n",
      "[CV] END max_depth=25, max_features=sqrt, min_samples_leaf=1, min_samples_split=2, n_estimators=1000; total time=   3.0s\n",
      "[CV] END max_depth=25, max_features=sqrt, min_samples_leaf=1, min_samples_split=2, n_estimators=1000; total time=   3.7s\n",
      "[CV] END max_depth=25, max_features=sqrt, min_samples_leaf=1, min_samples_split=2, n_estimators=1000; total time=   3.7s\n",
      "[CV] END max_depth=25, max_features=sqrt, min_samples_leaf=1, min_samples_split=2, n_estimators=1000; total time=   2.9s\n",
      "[CV] END max_depth=25, max_features=sqrt, min_samples_leaf=1, min_samples_split=2, n_estimators=1000; total time=   3.8s\n",
      "[CV] END max_depth=5, max_features=sqrt, min_samples_leaf=10, min_samples_split=15, n_estimators=1100; total time=   2.3s\n",
      "[CV] END max_depth=5, max_features=sqrt, min_samples_leaf=10, min_samples_split=15, n_estimators=1100; total time=   2.8s\n",
      "[CV] END max_depth=5, max_features=sqrt, min_samples_leaf=10, min_samples_split=15, n_estimators=1100; total time=   2.5s\n",
      "[CV] END max_depth=5, max_features=sqrt, min_samples_leaf=10, min_samples_split=15, n_estimators=1100; total time=   2.8s\n",
      "[CV] END max_depth=5, max_features=sqrt, min_samples_leaf=10, min_samples_split=15, n_estimators=1100; total time=   3.1s\n",
      "[CV] END max_depth=15, max_features=sqrt, min_samples_leaf=1, min_samples_split=15, n_estimators=300; total time=   0.7s\n",
      "[CV] END max_depth=15, max_features=sqrt, min_samples_leaf=1, min_samples_split=15, n_estimators=300; total time=   0.7s\n",
      "[CV] END max_depth=15, max_features=sqrt, min_samples_leaf=1, min_samples_split=15, n_estimators=300; total time=   0.7s\n",
      "[CV] END max_depth=15, max_features=sqrt, min_samples_leaf=1, min_samples_split=15, n_estimators=300; total time=   0.8s\n",
      "[CV] END max_depth=15, max_features=sqrt, min_samples_leaf=1, min_samples_split=15, n_estimators=300; total time=   0.7s\n",
      "[CV] END max_depth=5, max_features=sqrt, min_samples_leaf=2, min_samples_split=10, n_estimators=700; total time=   1.5s\n",
      "[CV] END max_depth=5, max_features=sqrt, min_samples_leaf=2, min_samples_split=10, n_estimators=700; total time=   1.9s\n",
      "[CV] END max_depth=5, max_features=sqrt, min_samples_leaf=2, min_samples_split=10, n_estimators=700; total time=   1.6s\n",
      "[CV] END max_depth=5, max_features=sqrt, min_samples_leaf=2, min_samples_split=10, n_estimators=700; total time=   2.4s\n",
      "[CV] END max_depth=5, max_features=sqrt, min_samples_leaf=2, min_samples_split=10, n_estimators=700; total time=   1.8s\n",
      "[CV] END max_depth=20, max_features=auto, min_samples_leaf=1, min_samples_split=15, n_estimators=700; total time=   2.5s\n",
      "[CV] END max_depth=20, max_features=auto, min_samples_leaf=1, min_samples_split=15, n_estimators=700; total time=   2.4s\n",
      "[CV] END max_depth=20, max_features=auto, min_samples_leaf=1, min_samples_split=15, n_estimators=700; total time=   3.2s\n",
      "[CV] END max_depth=20, max_features=auto, min_samples_leaf=1, min_samples_split=15, n_estimators=700; total time=   3.0s\n",
      "[CV] END max_depth=20, max_features=auto, min_samples_leaf=1, min_samples_split=15, n_estimators=700; total time=   2.3s\n"
     ]
    },
    {
     "data": {
      "text/plain": [
       "RandomizedSearchCV(cv=5, estimator=RandomForestRegressor(), n_jobs=1,\n",
       "                   param_distributions={'max_depth': [5, 10, 15, 20, 25, 30],\n",
       "                                        'max_features': ['auto', 'sqrt'],\n",
       "                                        'min_samples_leaf': [1, 2, 5, 10],\n",
       "                                        'min_samples_split': [2, 5, 10, 15,\n",
       "                                                              100],\n",
       "                                        'n_estimators': [100, 200, 300, 400,\n",
       "                                                         500, 600, 700, 800,\n",
       "                                                         900, 1000, 1100,\n",
       "                                                         1200]},\n",
       "                   random_state=42, scoring='neg_mean_squared_error',\n",
       "                   verbose=2)"
      ]
     },
     "execution_count": 247,
     "metadata": {},
     "output_type": "execute_result"
    }
   ],
   "source": [
    "rf_random.fit(x_train,y_train)"
   ]
  },
  {
   "cell_type": "code",
   "execution_count": 248,
   "id": "43830fce",
   "metadata": {},
   "outputs": [
    {
     "data": {
      "text/plain": [
       "{'n_estimators': 300,\n",
       " 'min_samples_split': 100,\n",
       " 'min_samples_leaf': 5,\n",
       " 'max_features': 'auto',\n",
       " 'max_depth': 15}"
      ]
     },
     "execution_count": 248,
     "metadata": {},
     "output_type": "execute_result"
    }
   ],
   "source": [
    "rf_random.best_params_"
   ]
  },
  {
   "cell_type": "code",
   "execution_count": 250,
   "id": "ece8e98f",
   "metadata": {},
   "outputs": [],
   "source": []
  },
  {
   "cell_type": "code",
   "execution_count": 283,
   "id": "16a05ba2",
   "metadata": {},
   "outputs": [
    {
     "data": {
      "image/png": "[encoded data removed]",
      "text/plain": [
       "<Figure size 432x432 with 1 Axes>"
      ]
     },
     "metadata": {
      "needs_background": "light"
     },
     "output_type": "display_data"
    }
   ],
   "source": [
    "plt.figure(figsize = (6,6))\n",
    "sns.distplot(y_test-prediction)\n",
    "plt.show()"
   ]
  },
  {
   "cell_type": "code",
   "execution_count": 284,
   "id": "a00be12b",
   "metadata": {},
   "outputs": [
    {
     "data": {
      "image/png": "[encoded data removed]",
      "text/plain": [
       "<Figure size 432x432 with 1 Axes>"
      ]
     },
     "metadata": {
      "needs_background": "light"
     },
     "output_type": "display_data"
    }
   ],
   "source": [
    "plt.figure(figsize = (6,6))\n",
    "plt.scatter(y_test, prediction, alpha = 0.5)\n",
    "plt.xlabel(\"y_test\")\n",
    "plt.ylabel(\"y_pred\")\n",
    "plt.show()"
   ]
  },
  {
   "cell_type": "code",
   "execution_count": 253,
   "id": "1396ae0f",
   "metadata": {},
   "outputs": [
    {
     "name": "stdout",
     "output_type": "stream",
     "text": [
      "MAE: 588.1470448467032\n",
      "MSE: 2099502.179858303\n",
      "RMSE: 1448.9659001709817\n"
     ]
    }
   ],
   "source": [
    "print('MAE:', metrics.mean_absolute_error(y_test, prediction))\n",
    "print('MSE:', metrics.mean_squared_error(y_test, prediction))\n",
    "\n",
    "print('RMSE:', np.sqrt(metrics.mean_squared_error(y_test, prediction)))"
   ]
  },
  {
   "cell_type": "code",
   "execution_count": 282,
   "id": "13764a9d",
   "metadata": {},
   "outputs": [],
   "source": [
    "#Saving the model as obj file\n",
    "import pickle\n",
    "file=open('flightPrice_project.pkl','wb')\n",
    "pickle.dump(rf_random,file)"
   ]
  },
  {
   "cell_type": "code",
   "execution_count": null,
   "id": "f841d2c5",
   "metadata": {},
   "outputs": [],
   "source": []
  }
 ],
 "metadata": {
  "kernelspec": {
   "display_name": "Python 3",
   "language": "python",
   "name": "python3"
  },
  "language_info": {
   "codemirror_mode": {
    "name": "ipython",
    "version": 3
   },
   "file_extension": ".py",
   "mimetype": "text/x-python",
   "name": "python",
   "nbconvert_exporter": "python",
   "pygments_lexer": "ipython3",
   "version": "3.8.8"
  }
 },
 "nbformat": 4,
 "nbformat_minor": 5
}
